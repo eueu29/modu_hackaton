{
 "cells": [
  {
   "cell_type": "markdown",
   "id": "52013ab0",
   "metadata": {},
   "source": [
    "# 03. LangGraph를 활용한 Agent 구축"
   ]
  },
  {
   "cell_type": "markdown",
   "id": "c4e1a5c3",
   "metadata": {},
   "source": [
    "https://wikidocs.net/264624"
   ]
  },
  {
   "cell_type": "code",
   "execution_count": 43,
   "id": "de9d9d8d",
   "metadata": {},
   "outputs": [
    {
     "data": {
      "text/plain": [
       "True"
      ]
     },
     "execution_count": 43,
     "metadata": {},
     "output_type": "execute_result"
    }
   ],
   "source": [
    "# API 키를 환경변수로 관리하기 위한 설정 파일\n",
    "from dotenv import load_dotenv\n",
    "\n",
    "# API 키 정보 로드\n",
    "load_dotenv()"
   ]
  },
  {
   "cell_type": "code",
   "execution_count": 44,
   "id": "6b5c6228",
   "metadata": {},
   "outputs": [
    {
     "name": "stdout",
     "output_type": "stream",
     "text": [
      "LangSmith 추적을 시작합니다.\n",
      "[프로젝트명]\n",
      "langgraph_RAG\n"
     ]
    }
   ],
   "source": [
    "# LangSmith 추적을 설정합니다. https://smith.langchain.com\n",
    "# !pip install -qU langchain-teddynote\n",
    "from langchain_teddynote import logging\n",
    "\n",
    "# 프로젝트 이름을 입력합니다.\n",
    "logging.langsmith(\"langgraph_RAG\")"
   ]
  },
  {
   "cell_type": "markdown",
   "id": "218506d4",
   "metadata": {},
   "source": [
    "## LangGraph Retrieval Agent\n",
    "검색 에이전트는 인덱스에서 검색할지 여부에 대한 결정을 내리고 싶을 때 유용합니다.  \n",
    "검색 에이전트를 구현하기 위해서는 LLM에 검색 도구에 대한 접근 권한을 제공하기만 하면 됩니다. 이를 LangGraph로 구현해 봅시다!   "
   ]
  },
  {
   "cell_type": "markdown",
   "id": "d38198b7",
   "metadata": {},
   "source": [
    "### Retriever"
   ]
  },
  {
   "cell_type": "code",
   "execution_count": 45,
   "id": "d12ab107",
   "metadata": {},
   "outputs": [],
   "source": [
    "import json\n",
    "from langchain.embeddings import CacheBackedEmbeddings\n",
    "from langchain.retrievers import EnsembleRetriever\n",
    "from langchain.schema import Document\n",
    "from langchain.storage import LocalFileStore\n",
    "from langchain.text_splitter import CharacterTextSplitter\n",
    "from langchain_community.retrievers import BM25Retriever\n",
    "from langchain_community.vectorstores import FAISS\n",
    "from langchain_upstage import UpstageEmbeddings\n",
    "\n",
    "file_dir = \"/home/yoojin/ML/aiffel/HackaThon/modu_hackaton/LLM/files/menu_1017.json\"\n",
    "\n",
    "docs = [\n",
    "    Document(\n",
    "        page_content=json.dumps(obj[\"page_content\"], ensure_ascii=False),\n",
    "    )\n",
    "    for obj in json.load(open(file_dir, \"r\", encoding=\"utf-8\"))\n",
    "]\n",
    "\n",
    "text_splitter = CharacterTextSplitter(separator=\"\\n\\n\", chunk_size=200, chunk_overlap=0)\n",
    "split_docs = text_splitter.split_documents(docs)\n",
    "\n",
    "embeddings = UpstageEmbeddings(model=\"solar-embedding-1-large\")\n",
    "cache_dir = LocalFileStore(f\"./.cache/embeddings/{file_dir.split('/')[-1]}\")\n",
    "cached_embedder = CacheBackedEmbeddings.from_bytes_store(\n",
    "    underlying_embeddings=embeddings,\n",
    "    document_embedding_cache=cache_dir,\n",
    "    namespace=\"solar-embedding-1-large\",\n",
    ")\n",
    "\n",
    "vectorstore = FAISS.from_documents(split_docs, cached_embedder)\n",
    "\n",
    "retriever = vectorstore.as_retriever(search_kwargs={\"k\": 1})\n"
   ]
  },
  {
   "cell_type": "code",
   "execution_count": 46,
   "id": "64b53b2a",
   "metadata": {},
   "outputs": [],
   "source": [
    "# # Ensemble Retriever 테스트\n",
    "# query = \"매콤한 메뉴는 뭐가있어?\"\n",
    "# results = ensemble_retriever.get_relevant_documents(query)\n",
    "# for i, doc in enumerate(results):\n",
    "#     print(f\"\\n검색 결과 {i+1}:\")\n",
    "#     print(doc.page_content)"
   ]
  },
  {
   "cell_type": "code",
   "execution_count": 47,
   "id": "7192f35c",
   "metadata": {},
   "outputs": [],
   "source": [
    "from langgraph.prebuilt import ToolNode\n",
    "from langchain.tools.retriever import create_retriever_tool\n",
    "\n",
    "# 맥도날드의 메뉴에 대한 정보를 검색하고 반환하는 도구를 생성합니다.\n",
    "tool = create_retriever_tool(\n",
    "    retriever,\n",
    "    \"retrieve_menu_data\", \n",
    "    \"Search and return McDonald's menu information.\",\n",
    ")\n",
    "\n",
    "tools = [tool]\n",
    "\n",
    "# 도구들을 실행할 ToolNode 객체를 생성합니다.\n",
    "tool_executor = ToolNode(tools)"
   ]
  },
  {
   "cell_type": "code",
   "execution_count": 48,
   "id": "1a04a2b7",
   "metadata": {},
   "outputs": [],
   "source": [
    "# tool.invoke(\"매콤한 버거\")"
   ]
  },
  {
   "cell_type": "markdown",
   "id": "e90d74bc",
   "metadata": {},
   "source": [
    "### Agent state 설정  \n",
    "그래프를 정의해야 합니다.  \n",
    "\n",
    "- AgentState 는 각 노드에 전달하는 state 객체입니다.  \n",
    "- AgentState 는 messages의 리스트로 담깁니다.  \n",
    "- 그런 다음 그래프의 각 노드는 AgentState 를 추가합니다.  "
   ]
  },
  {
   "cell_type": "code",
   "execution_count": 49,
   "id": "04890573",
   "metadata": {},
   "outputs": [],
   "source": [
    "from typing import Annotated\n",
    "from typing_extensions import TypedDict\n",
    "from langgraph.graph.message import add_messages\n",
    "\n",
    "\n",
    "# State 정의\n",
    "class State(TypedDict):\n",
    "    # list 타입에 add_messages 적용(list 에 message 추가)\n",
    "    messages: Annotated[list, add_messages]"
   ]
  },
  {
   "cell_type": "code",
   "execution_count": 50,
   "id": "0226766f",
   "metadata": {},
   "outputs": [],
   "source": [
    "from langchain_openai import ChatOpenAI\n",
    "\n",
    "# LLM 초기화\n",
    "llm = ChatOpenAI(model=\"gpt-4o-mini\")\n",
    "\n",
    "# LLM 에 도구 바인딩\n",
    "llm_with_tools = llm.bind_tools(tools)"
   ]
  },
  {
   "cell_type": "code",
   "execution_count": 51,
   "id": "21e1e27d",
   "metadata": {},
   "outputs": [],
   "source": [
    "# 노드 함수 정의\n",
    "def chatbot(state: State):\n",
    "    answer = llm_with_tools.invoke(state[\"messages\"])\n",
    "    # 메시지 목록 반환\n",
    "    return {\"messages\": [answer]}  # 자동으로 add_messages 적용"
   ]
  },
  {
   "cell_type": "code",
   "execution_count": 52,
   "id": "158ba0e3",
   "metadata": {},
   "outputs": [
    {
     "data": {
      "text/plain": [
       "<langgraph.graph.state.StateGraph at 0x7f3c16177d00>"
      ]
     },
     "execution_count": 52,
     "metadata": {},
     "output_type": "execute_result"
    }
   ],
   "source": [
    "from langgraph.graph import StateGraph\n",
    "\n",
    "# 상태 그래프 초기화\n",
    "graph_builder = StateGraph(State)\n",
    "\n",
    "# 노드 추가\n",
    "graph_builder.add_node(\"chatbot\", chatbot)"
   ]
  },
  {
   "cell_type": "code",
   "execution_count": 53,
   "id": "3b07e1ca",
   "metadata": {},
   "outputs": [
    {
     "data": {
      "text/plain": [
       "<langgraph.graph.state.StateGraph at 0x7f3c16177d00>"
      ]
     },
     "execution_count": 53,
     "metadata": {},
     "output_type": "execute_result"
    }
   ],
   "source": [
    "import json\n",
    "from langchain_core.messages import ToolMessage\n",
    "\n",
    "\n",
    "class BasicToolNode:\n",
    "    \"\"\"Run tools requested in the last AIMessage node\"\"\"\n",
    "\n",
    "    def __init__(self, tools: list) -> None:\n",
    "        # 도구 리스트\n",
    "        self.tools_list = {tool.name: tool for tool in tools}\n",
    "\n",
    "    def __call__(self, inputs: dict):\n",
    "        # 메시지가 존재할 경우 가장 최근 메시지 1개 추출\n",
    "        if messages := inputs.get(\"messages\", []):\n",
    "            message = messages[-1]\n",
    "        else:\n",
    "            raise ValueError(\"No message found in input\")\n",
    "\n",
    "        # 도구 호출 결과\n",
    "        outputs = []\n",
    "        for tool_call in message.tool_calls:\n",
    "            # 도구 호출 후 결과 저장\n",
    "            tool_result = self.tools_list[tool_call[\"name\"]].invoke(tool_call[\"args\"])\n",
    "            outputs.append(\n",
    "                # 도구 호출 결과를 메시지로 저장\n",
    "                ToolMessage(\n",
    "                    content=json.dumps(\n",
    "                        tool_result, ensure_ascii=False\n",
    "                    ),  # 도구 호출 결과를 문자열로 변환\n",
    "                    name=tool_call[\"name\"],\n",
    "                    tool_call_id=tool_call[\"id\"],\n",
    "                )\n",
    "            )\n",
    "\n",
    "        return {\"messages\": outputs}\n",
    "\n",
    "\n",
    "# 도구 노드 생성\n",
    "tool_node = BasicToolNode(tools=[tool])\n",
    "\n",
    "# 그래프에 도구 노드 추가\n",
    "graph_builder.add_node(\"tools\", tool_node)\n"
   ]
  },
  {
   "cell_type": "code",
   "execution_count": 54,
   "id": "dc9c3c20",
   "metadata": {},
   "outputs": [],
   "source": [
    "from langgraph.graph import START, END\n",
    "\n",
    "\n",
    "def route_tools(\n",
    "    state: State,\n",
    "):\n",
    "    if messages := state.get(\"messages\", []):\n",
    "        # 가장 최근 AI 메시지 추출\n",
    "        ai_message = messages[-1]\n",
    "    else:\n",
    "        # 입력 상태에 메시지가 없는 경우 예외 발생\n",
    "        raise ValueError(f\"No messages found in input state to tool_edge: {state}\")\n",
    "\n",
    "    # AI 메시지에 도구 호출이 있는 경우 \"tools\" 반환\n",
    "    if hasattr(ai_message, \"tool_calls\") and len(ai_message.tool_calls) > 0:\n",
    "        # 도구 호출이 있는 경우 \"tools\" 반환\n",
    "        return \"tools\"\n",
    "    # 도구 호출이 없는 경우 \"END\" 반환\n",
    "    return END\n",
    "\n",
    "\n",
    "# `tools_condition` 함수는 챗봇이 도구 사용을 요청하면 \"tools\"를 반환하고, 직접 응답이 가능한 경우 \"END\"를 반환\n",
    "graph_builder.add_conditional_edges(\n",
    "    source=\"chatbot\",\n",
    "    path=route_tools,\n",
    "    # route_tools 의 반환값이 \"tools\" 인 경우 \"tools\" 노드로, 그렇지 않으면 END 노드로 라우팅\n",
    "    path_map={\"tools\": \"tools\", END: END},\n",
    ")\n",
    "\n",
    "# tools > chatbot\n",
    "graph_builder.add_edge(\"tools\", \"chatbot\")\n",
    "\n",
    "# START > chatbot\n",
    "graph_builder.add_edge(START, \"chatbot\")\n",
    "\n",
    "# 그래프 컴파일\n",
    "graph = graph_builder.compile()\n"
   ]
  },
  {
   "cell_type": "code",
   "execution_count": 55,
   "id": "b6605e54",
   "metadata": {},
   "outputs": [
    {
     "data": {
      "image/jpeg": "[encoded data removed]",
      "text/plain": [
       "<IPython.core.display.Image object>"
      ]
     },
     "metadata": {},
     "output_type": "display_data"
    }
   ],
   "source": [
    "from langchain_teddynote.graphs import visualize_graph\n",
    "\n",
    "# 그래프 시각화\n",
    "visualize_graph(graph)\n"
   ]
  },
  {
   "cell_type": "code",
   "execution_count": 56,
   "id": "232d68ee",
   "metadata": {},
   "outputs": [
    {
     "name": "stdout",
     "output_type": "stream",
     "text": [
      "\n",
      "==============\n",
      "STEP: chatbot\n",
      "==============\n",
      "\n",
      "    \u001b[93mcontent\u001b[0m: \"\"\n",
      "    \u001b[93madditional_kwargs\u001b[0m:\n",
      "        \u001b[94mtool_calls\u001b[0m:\n",
      "            \u001b[94mindex [0]\u001b[0m\n",
      "                \u001b[92mid\u001b[0m: \"call_WVpWudMsByyaF5nhwtEAJnpq\"\n",
      "                \u001b[92mfunction\u001b[0m: {\"arguments\": \"{\"query\":\"spicy burger\"}\", \"name\": \"retrieve_menu_data\"}\n",
      "                \u001b[92mtype\u001b[0m: \"function\"\n",
      "        \u001b[94mrefusal\u001b[0m: None\n",
      "    \u001b[93mresponse_metadata\u001b[0m:\n",
      "        \u001b[94mtoken_usage\u001b[0m:\n",
      "            \u001b[95mcompletion_tokens\u001b[0m: 17\n",
      "            \u001b[95mprompt_tokens\u001b[0m: 61\n",
      "            \u001b[95mtotal_tokens\u001b[0m: 78\n",
      "            \u001b[95mcompletion_tokens_details\u001b[0m: {\"reasoning_tokens\": 0, \"audio_tokens\": 0, \"accepted_prediction_tokens\": 0, \"rejected_prediction_tokens\": 0}\n",
      "            \u001b[95mprompt_tokens_details\u001b[0m: {\"cached_tokens\": 0, \"audio_tokens\": 0}\n",
      "        \u001b[94mmodel_name\u001b[0m: \"gpt-4o-mini-2024-07-18\"\n",
      "        \u001b[94msystem_fingerprint\u001b[0m: \"fp_0ba0d124f1\"\n",
      "        \u001b[94mfinish_reason\u001b[0m: \"tool_calls\"\n",
      "        \u001b[94mlogprobs\u001b[0m: None\n",
      "    \u001b[93mtype\u001b[0m: \"ai\"\n",
      "    \u001b[93mname\u001b[0m: None\n",
      "    \u001b[93mid\u001b[0m: \"run-3a7b4da5-ce6e-47b9-83ff-ce05b6d56448-0\"\n",
      "    \u001b[93mexample\u001b[0m: False\n",
      "    \u001b[93mtool_calls\u001b[0m:\n",
      "        \u001b[93mindex [0]\u001b[0m\n",
      "            \u001b[95mname\u001b[0m: \"retrieve_menu_data\"\n",
      "            \u001b[95margs\u001b[0m: {\"query\": \"spicy burger\"}\n",
      "            \u001b[95mid\u001b[0m: \"call_WVpWudMsByyaF5nhwtEAJnpq\"\n",
      "            \u001b[95mtype\u001b[0m: \"tool_call\"\n",
      "    \u001b[93minvalid_tool_calls\u001b[0m:\n",
      "    \u001b[93musage_metadata\u001b[0m: {\"input_tokens\": 61, \"output_tokens\": 17, \"total_tokens\": 78}\n",
      "\n",
      "==============\n",
      "STEP: tools\n",
      "==============\n",
      "\n",
      "    \u001b[93mcontent\u001b[0m: \"\"{\\\"category\\\": \\\"버거 & 세트\\\", \\\"name\\\": \\\"맥스파이시 상하이 버거\\\", \\\"product_status\\\": \\\"-\\\", \\\"description\\\": \\\"쌀가루가 더해져 더 바삭해진 100% 닭가슴살 패티에 아삭아삭한 양상추와 신선한 토마토까지 더 바삭하고 맛있어진 맥스파이시 상하이 버거로입맛도 기분도 화끈하게 \\\", \\\"price\\\": {\\\"single\\\": \\\"6300\\\", \\\"set\\\": \\\"8400\\\"}, \\\"nutrition\\\": {\\\"중량(g)\\\": \\\"246\\\", \\\"열량(kcal)\\\": \\\"501\\\", \\\"당(g)\\\": \\\"9\\\", \\\"나트륨(mg)\\\": \\\"1102\\\"}, \\\"ingredients\\\": \\\"닭고기\\\", \\\"allergy_caution\\\": \\\"난류,대두,밀,토마토,닭고기\\\"}\"\"\n",
      "    \u001b[93madditional_kwargs\u001b[0m: {}\n",
      "    \u001b[93mresponse_metadata\u001b[0m: {}\n",
      "    \u001b[93mtype\u001b[0m: \"tool\"\n",
      "    \u001b[93mname\u001b[0m: \"retrieve_menu_data\"\n",
      "    \u001b[93mid\u001b[0m: \"b3a29a32-3721-491d-a1d9-6641d48d7b56\"\n",
      "    \u001b[93mtool_call_id\u001b[0m: \"call_WVpWudMsByyaF5nhwtEAJnpq\"\n",
      "    \u001b[93martifact\u001b[0m: None\n",
      "    \u001b[93mstatus\u001b[0m: \"success\"\n",
      "\n",
      "==============\n",
      "STEP: chatbot\n",
      "==============\n",
      "\n",
      "    \u001b[93mcontent\u001b[0m: \"매콤한 버거로는 **맥스파이시 상하이 버거**가 있습니다. \n",
      "\n",
      "- **설명**: 쌀가루가 더해져 더 바삭해진 100% 닭가슴살 패티에 아삭아삭한 양상추와 신선한 토마토가 더해져 더욱 바삭하고 맛있습니다.\n",
      "- **가격**: \n",
      "  - 단품: 6,300원\n",
      "  - 세트: 8,400원\n",
      "- **영양 정보**:\n",
      "  - 중량: 246g\n",
      "  - 열량: 501kcal\n",
      "  - 당: 9g\n",
      "  - 나트륨: 1102mg\n",
      "- **주요 재료**: 닭고기\n",
      "- **알레르기 주의사항**: 난류, 대두, 밀, 토마토, 닭고기\n",
      "\n",
      "매콤한 맛을 즐기고 싶다면 추천드립니다!\"\n",
      "    \u001b[93madditional_kwargs\u001b[0m: {\"refusal\": None}\n",
      "    \u001b[93mresponse_metadata\u001b[0m:\n",
      "        \u001b[94mtoken_usage\u001b[0m:\n",
      "            \u001b[95mcompletion_tokens\u001b[0m: 211\n",
      "            \u001b[95mprompt_tokens\u001b[0m: 293\n",
      "            \u001b[95mtotal_tokens\u001b[0m: 504\n",
      "            \u001b[95mcompletion_tokens_details\u001b[0m: {\"reasoning_tokens\": 0, \"audio_tokens\": 0, \"accepted_prediction_tokens\": 0, \"rejected_prediction_tokens\": 0}\n",
      "            \u001b[95mprompt_tokens_details\u001b[0m: {\"cached_tokens\": 0, \"audio_tokens\": 0}\n",
      "        \u001b[94mmodel_name\u001b[0m: \"gpt-4o-mini-2024-07-18\"\n",
      "        \u001b[94msystem_fingerprint\u001b[0m: \"fp_f59a81427f\"\n",
      "        \u001b[94mfinish_reason\u001b[0m: \"stop\"\n",
      "        \u001b[94mlogprobs\u001b[0m: None\n",
      "    \u001b[93mtype\u001b[0m: \"ai\"\n",
      "    \u001b[93mname\u001b[0m: None\n",
      "    \u001b[93mid\u001b[0m: \"run-45ef1ce9-6a25-4d9c-bec9-151c723cf85e-0\"\n",
      "    \u001b[93mexample\u001b[0m: False\n",
      "    \u001b[93mtool_calls\u001b[0m:\n",
      "    \u001b[93minvalid_tool_calls\u001b[0m:\n",
      "    \u001b[93musage_metadata\u001b[0m: {\"input_tokens\": 293, \"output_tokens\": 211, \"total_tokens\": 504}\n"
     ]
    }
   ],
   "source": [
    "from langchain_teddynote.messages import display_message_tree\n",
    "\n",
    "question = \"매콤한 버거\"\n",
    "\n",
    "for event in graph.stream({\"messages\": [(\"user\", question)]}):\n",
    "    for key, value in event.items():\n",
    "        print(f\"\\n==============\\nSTEP: {key}\\n==============\\n\")\n",
    "        display_message_tree(value[\"messages\"][-1])\n"
   ]
  }
 ],
 "metadata": {
  "kernelspec": {
   "display_name": "langchain-kr-lwwSZlnu-py3.11",
   "language": "python",
   "name": "python3"
  },
  "language_info": {
   "codemirror_mode": {
    "name": "ipython",
    "version": 3
   },
   "file_extension": ".py",
   "mimetype": "text/x-python",
   "name": "python",
   "nbconvert_exporter": "python",
   "pygments_lexer": "ipython3",
   "version": "3.10.12"
  }
 },
 "nbformat": 4,
 "nbformat_minor": 5
}

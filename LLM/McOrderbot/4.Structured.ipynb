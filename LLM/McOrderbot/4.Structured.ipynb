{
 "cells": [
  {
   "cell_type": "code",
   "execution_count": 147,
   "metadata": {},
   "outputs": [
    {
     "data": {
      "text/plain": [
       "True"
      ]
     },
     "execution_count": 147,
     "metadata": {},
     "output_type": "execute_result"
    }
   ],
   "source": [
    "from dotenv import load_dotenv\n",
    "\n",
    "load_dotenv()"
   ]
  },
  {
   "cell_type": "code",
   "execution_count": 166,
   "metadata": {},
   "outputs": [
    {
     "name": "stdout",
     "output_type": "stream",
     "text": [
      "LangSmith 추적을 시작합니다.\n",
      "[프로젝트명]\n",
      "Recommend\n"
     ]
    }
   ],
   "source": [
    "from langchain_teddynote import logging\n",
    "\n",
    "logging.langsmith(\"Recommend\")"
   ]
  },
  {
   "cell_type": "markdown",
   "metadata": {},
   "source": [
    "### 모듈 import"
   ]
  },
  {
   "cell_type": "code",
   "execution_count": 149,
   "metadata": {},
   "outputs": [],
   "source": [
    "import pandas as pd\n",
    "from langchain.text_splitter import CharacterTextSplitter\n",
    "from langchain.retrievers import EnsembleRetriever\n",
    "from langchain_community.retrievers import BM25Retriever\n",
    "from langchain.embeddings import CacheBackedEmbeddings\n",
    "from langchain.storage import LocalFileStore\n",
    "from langchain_community.vectorstores import FAISS\n",
    "from langchain_upstage import UpstageEmbeddings, ChatUpstage\n",
    "from langchain_anthropic import ChatAnthropic\n",
    "from langchain.prompts import ChatPromptTemplate\n",
    "from langchain.schema.runnable import RunnablePassthrough, RunnableLambda \n",
    "from langchain.memory import ConversationBufferMemory\n",
    "from langchain.schema import Document\n",
    "from datetime import datetime\n",
    "from langchain_community.document_loaders import JSONLoader\n",
    "from langchain.chains.query_constructor.base import AttributeInfo\n",
    "from langchain.prompts import PromptTemplate\n",
    "from langchain_core.runnables import RunnablePassthrough\n",
    "from langchain_anthropic import ChatAnthropic\n",
    "from langchain.schema.output_parser import StrOutputParser\n",
    "from langchain_openai import ChatOpenAI\n",
    "from langchain.schema import BaseOutputParser\n",
    "import json"
   ]
  },
  {
   "cell_type": "markdown",
   "metadata": {},
   "source": [
    "## 1. 대분류 :의도파악하기"
   ]
  },
  {
   "cell_type": "markdown",
   "metadata": {},
   "source": [
    "(가격)  \n",
    "- Upstage Solar pro :  0.25(preview동안 0원)  \n",
    "- gpt-4o-mini-2024-07-18 : input 0.15, output 0.6  \n",
    "- claude-3-5-sonnet-20240620 : input 3, output 15  \n",
    "- GPT-4o 2024-08-06 : input 2.5, output 10"
   ]
  },
  {
   "cell_type": "code",
   "execution_count": 48,
   "metadata": {},
   "outputs": [],
   "source": [
    "# Upstage : Solar-1-mini\n",
    "\n",
    "llm = ChatUpstage()\n",
    "# 주문일때 키워드 뽑는건 잘함. \n",
    "# 1초 미만(0~0.7초)\n",
    "# {'분류': '기타', '키워드': []}, {'분류': '추천', '키워드': []} 등 주문 아닌데도 키워드 항목 만들고 빈 리스트,,,\n",
    "# \"처음부터 주문 다시할게\" -> 취소(O) but 주문으로 판단"
   ]
  },
  {
   "cell_type": "code",
   "execution_count": 82,
   "metadata": {},
   "outputs": [],
   "source": [
    "# chatGPT 4o mini\n",
    "\n",
    "llm = ChatOpenAI(model_name=\"gpt-4o-mini-2024-07-18\", temperature=0.3)  #temperature 바꿔서도 실행해보기\n",
    "# 1초대 속도, 근데 딱 하나가 최대시간(3초)차지\n",
    "# claude와 정확도면에서 크게 차이나진 않음 -> 우선선택!\n"
   ]
  },
  {
   "cell_type": "code",
   "execution_count": 70,
   "metadata": {},
   "outputs": [],
   "source": [
    "# Claude 3.5 sonnet\n",
    "llm = ChatAnthropic(model_name=\"claude-3-5-sonnet-20240620\")\n",
    "# 2초씩 걸린다... 정확도는 높음"
   ]
  },
  {
   "cell_type": "code",
   "execution_count": 83,
   "metadata": {},
   "outputs": [],
   "source": [
    "intent_chain = PromptTemplate.from_template(\"\"\"\n",
    "아래 질문을 보고 사용자가 원하는 의도를 '주문', '추천', '취소', '결제', '기타' 중 하나로 정확하게 분류하세요.\n",
    "\n",
    "분류 기준:\n",
    "- 주문: 특정 메뉴를 정확히 주문하려는 경우 (예: '빅맥 하나 주세요', '감자튀김 추가')\n",
    "- 추천: 특정 메뉴 이름 대신 추천을 요청하거나 메뉴 선택에 도움을 원하는 경우 (예: '뭐가 맛있나요?', '매콤한 음식 추천해줘')\n",
    "- 취소: 이전에 진행된 주문을 취소하려는 경우 (예: '주문 취소해 주세요', '아까 주문한 것 취소하고 싶어요')\n",
    "- 결제: 주문 완료 후 결제를 요청하는 경우 (예: '결제할게요', '주문 끝났어')\n",
    "- 기타: 위의 네 가지 분류에 해당하지 않는 경우 (예: '화장실은 어디인가요?', '영업 시간은 언제인가요?')\n",
    "\n",
    "<질문>\n",
    "{question}\n",
    "</질문>\n",
    "\n",
    "질문의 분류와 해당 질문에 포함된 주요 키워드를 JSON 형식으로 출력하세요.\n",
    "\n",
    "조건:\n",
    "- 질문의 분류와 해당 질문에 포함된 주요 키워드를 딕셔너리 형식으로 출력하세요.\n",
    "- 분류가 '주문'일 때만 키워드를 추출하세요. 다른 분류에서는 키워드를 출력하지 마세요\n",
    "- 주문이 세트메뉴인 경우, 버거명에 세트메뉴 키워드를 포함하세요\n",
    "\n",
    "예시 출력: {{\"분류\": \"주문\", \"키워드\": \"빅맥\"}}\n",
    "예시 출력: {{\"분류\": \"추천\"}}\n",
    "\"\"\") | llm | StrOutputParser()"
   ]
  },
  {
   "cell_type": "code",
   "execution_count": 51,
   "metadata": {},
   "outputs": [],
   "source": [
    "# 추가적인 파싱 작업: 문자열을 딕셔너리로 변환\n",
    "import json\n",
    "\n",
    "def parse_response(response_str):\n",
    "    try:\n",
    "        response_dict = json.loads(response_str)\n",
    "    except json.JSONDecodeError:\n",
    "        response_dict = {\"error\": \"파싱 오류\", \"원본\": response_str}\n",
    "    return response_dict"
   ]
  },
  {
   "cell_type": "markdown",
   "metadata": {},
   "source": [
    "의도한게 '주문'"
   ]
  },
  {
   "cell_type": "code",
   "execution_count": 52,
   "metadata": {},
   "outputs": [
    {
     "name": "stdout",
     "output_type": "stream",
     "text": [
      "{'분류': '주문', '키워드': ['불고기 버거', '후렌치후라이']}\n"
     ]
    }
   ],
   "source": [
    "intent = intent_chain.invoke(\"불고기 버거 하나랑 후렌치후라이 하나줘\")\n",
    "print(parse_response(intent))\n",
    "# 주문"
   ]
  },
  {
   "cell_type": "code",
   "execution_count": 53,
   "metadata": {},
   "outputs": [
    {
     "name": "stdout",
     "output_type": "stream",
     "text": [
      "{'분류': '주문', '키워드': ['불고기 버거 세트', '후렌치후라이', '콜라', '상하이 치킨 스낵랩']}\n"
     ]
    }
   ],
   "source": [
    "intent = intent_chain.invoke(\"불고기 버거 세트에 후렌치후라이 하나랑 콜라주고, 상하이 치킨 스낵랩도 하나 추가해줘\")\n",
    "print(parse_response(intent))\n",
    "# 주문"
   ]
  },
  {
   "cell_type": "code",
   "execution_count": 86,
   "metadata": {},
   "outputs": [
    {
     "name": "stdout",
     "output_type": "stream",
     "text": [
      "{'분류': '주문', '키워드': '불고기 버거 세트, 후렌치후라이, 콜라, 상하이 치킨 스낵랩'}\n"
     ]
    }
   ],
   "source": [
    "intent = intent_chain.invoke(\"세트로 불고기 버거랑 후렌치후라이 하나랑 콜라주고, 상하이 치킨 스낵랩도 하나 추가해줘\")\n",
    "print(parse_response(intent))\n",
    "# 주문"
   ]
  },
  {
   "cell_type": "code",
   "execution_count": 54,
   "metadata": {},
   "outputs": [
    {
     "name": "stdout",
     "output_type": "stream",
     "text": [
      "{'분류': '주문', '키워드': '불고기 버거'}\n"
     ]
    }
   ],
   "source": [
    "intent = intent_chain.invoke(\"불고기 버거 하나만 줘\")\n",
    "print(parse_response(intent))\n",
    "# 주문"
   ]
  },
  {
   "cell_type": "code",
   "execution_count": 55,
   "metadata": {},
   "outputs": [
    {
     "name": "stdout",
     "output_type": "stream",
     "text": [
      "{'분류': '주문', '키워드': '불고기 버거세트'}\n"
     ]
    }
   ],
   "source": [
    "intent = intent_chain.invoke(\"불고기 버거세트 하나만 줘\")\n",
    "print(parse_response(intent))\n",
    "# 주문"
   ]
  },
  {
   "cell_type": "code",
   "execution_count": 56,
   "metadata": {},
   "outputs": [
    {
     "name": "stdout",
     "output_type": "stream",
     "text": [
      "{'분류': '주문', '키워드': '불고기 버거 세트'}\n"
     ]
    }
   ],
   "source": [
    "intent = intent_chain.invoke(\"불고기 버거 세트로 하나만 줘\")\n",
    "print(parse_response(intent))\n",
    "# 주문"
   ]
  },
  {
   "cell_type": "code",
   "execution_count": 57,
   "metadata": {},
   "outputs": [
    {
     "name": "stdout",
     "output_type": "stream",
     "text": [
      "<class 'dict'>\n"
     ]
    }
   ],
   "source": [
    "parse_intent = parse_response(intent)\n",
    "print(type(parse_intent))"
   ]
  },
  {
   "cell_type": "markdown",
   "metadata": {},
   "source": [
    "의도한게 '추천'"
   ]
  },
  {
   "cell_type": "code",
   "execution_count": 58,
   "metadata": {},
   "outputs": [
    {
     "name": "stdout",
     "output_type": "stream",
     "text": [
      "{'분류': '주문'}\n"
     ]
    }
   ],
   "source": [
    "intent = intent_chain.invoke(\"주문할게\")\n",
    "print(parse_response(intent))\n",
    "# 추천, 주문"
   ]
  },
  {
   "cell_type": "code",
   "execution_count": 59,
   "metadata": {},
   "outputs": [
    {
     "name": "stdout",
     "output_type": "stream",
     "text": [
      "{'분류': '주문', '키워드': '치킨버거'}\n"
     ]
    }
   ],
   "source": [
    "intent = intent_chain.invoke(\"치킨버거 하나만 줘\")\n",
    "print(parse_response(intent))\n",
    "# 추천, 주문"
   ]
  },
  {
   "cell_type": "code",
   "execution_count": 60,
   "metadata": {},
   "outputs": [
    {
     "name": "stdout",
     "output_type": "stream",
     "text": [
      "{'분류': '추천'}\n"
     ]
    }
   ],
   "source": [
    "intent = intent_chain.invoke(\"치킨버거 아닌것도 있나?\")\n",
    "print(parse_response(intent))\n",
    "# 추천"
   ]
  },
  {
   "cell_type": "code",
   "execution_count": 61,
   "metadata": {},
   "outputs": [
    {
     "name": "stdout",
     "output_type": "stream",
     "text": [
      "{'분류': '추천'}\n"
     ]
    }
   ],
   "source": [
    "intent = intent_chain.invoke(\"뭐 먹을지 잘 모르겠어\")\n",
    "print(parse_response(intent))\n",
    "# 추천"
   ]
  },
  {
   "cell_type": "code",
   "execution_count": 62,
   "metadata": {},
   "outputs": [
    {
     "name": "stdout",
     "output_type": "stream",
     "text": [
      "{'분류': '추천'}\n"
     ]
    }
   ],
   "source": [
    "intent = intent_chain.invoke(\"매콤한거 먹을래\")\n",
    "print(parse_response(intent))\n",
    "# 추천"
   ]
  },
  {
   "cell_type": "markdown",
   "metadata": {},
   "source": [
    "의도한게 '취소'"
   ]
  },
  {
   "cell_type": "code",
   "execution_count": 63,
   "metadata": {},
   "outputs": [
    {
     "name": "stdout",
     "output_type": "stream",
     "text": [
      "{'분류': '취소'}\n"
     ]
    }
   ],
   "source": [
    "intent = intent_chain.invoke(\"방금 얘기한거 주문 안할게\")\n",
    "print(parse_response(intent))\n",
    "# 취소"
   ]
  },
  {
   "cell_type": "code",
   "execution_count": 64,
   "metadata": {},
   "outputs": [
    {
     "name": "stdout",
     "output_type": "stream",
     "text": [
      "{'분류': '취소'}\n"
     ]
    }
   ],
   "source": [
    "intent = intent_chain.invoke(\"처음부터 주문 다시할게\")\n",
    "print(parse_response(intent))\n",
    "# 취소"
   ]
  },
  {
   "cell_type": "markdown",
   "metadata": {},
   "source": [
    "의도한게 '결제'"
   ]
  },
  {
   "cell_type": "code",
   "execution_count": 65,
   "metadata": {},
   "outputs": [
    {
     "name": "stdout",
     "output_type": "stream",
     "text": [
      "{'분류': '결제'}\n"
     ]
    }
   ],
   "source": [
    "intent = intent_chain.invoke(\"주문 끝났어\")\n",
    "print(parse_response(intent))\n",
    "# 결제"
   ]
  },
  {
   "cell_type": "code",
   "execution_count": 66,
   "metadata": {},
   "outputs": [
    {
     "name": "stdout",
     "output_type": "stream",
     "text": [
      "{'분류': '결제'}\n"
     ]
    }
   ],
   "source": [
    "intent = intent_chain.invoke(\"주문완료\")\n",
    "print(parse_response(intent))\n",
    "# 결제"
   ]
  },
  {
   "cell_type": "code",
   "execution_count": 67,
   "metadata": {},
   "outputs": [
    {
     "name": "stdout",
     "output_type": "stream",
     "text": [
      "{'분류': '결제'}\n"
     ]
    }
   ],
   "source": [
    "intent = intent_chain.invoke(\"계산해줘\")\n",
    "print(parse_response(intent))\n",
    "# 결제"
   ]
  },
  {
   "cell_type": "markdown",
   "metadata": {},
   "source": [
    "'기타'를 의도"
   ]
  },
  {
   "cell_type": "code",
   "execution_count": 68,
   "metadata": {},
   "outputs": [
    {
     "name": "stdout",
     "output_type": "stream",
     "text": [
      "{'분류': '기타'}\n"
     ]
    }
   ],
   "source": [
    "intent = intent_chain.invoke(\"이거 어떻게 하는거야?\")\n",
    "print(parse_response(intent))\n",
    "# 기타"
   ]
  },
  {
   "cell_type": "code",
   "execution_count": 69,
   "metadata": {},
   "outputs": [
    {
     "name": "stdout",
     "output_type": "stream",
     "text": [
      "{'분류': '기타'}\n"
     ]
    }
   ],
   "source": [
    "intent = intent_chain.invoke(\"화장실은 어디야?\")\n",
    "print(parse_response(intent))\n",
    "# 기타"
   ]
  },
  {
   "cell_type": "markdown",
   "metadata": {},
   "source": [
    "## task별 구분"
   ]
  },
  {
   "cell_type": "markdown",
   "metadata": {},
   "source": [
    "주문(빠른주문) : 명확한 이름을 아는 경우 JSON 형식으로 출력. 명확한 이름을 모르는 경우 LLM으로 한번 걸러서 주문 진행.  \n",
    "결제, 취소는 코딩으로 해결  \n",
    "기타 : LLM 무한가동시켜서 의도분류 task중 하나 선택하도록 유도  "
   ]
  },
  {
   "cell_type": "markdown",
   "metadata": {},
   "source": [
    "## 2. 빠른주문"
   ]
  },
  {
   "cell_type": "markdown",
   "metadata": {},
   "source": [
    "### 전체코드"
   ]
  },
  {
   "cell_type": "markdown",
   "metadata": {},
   "source": [
    "필요작업   \n",
    "LLM에서 추측한 메뉴가 여러개일 때, 둘 중 맞는게 있는지 확인  \n",
    "맨 뒤에 의도분류 연결  \n",
    "GPT, claude 모델 비교\n"
   ]
  },
  {
   "cell_type": "code",
   "execution_count": 146,
   "metadata": {},
   "outputs": [
    {
     "name": "stdout",
     "output_type": "stream",
     "text": [
      "선택하신 메뉴 중 확인할 수 없는 항목이 있습니다: [' 콜라']. 추천 챗봇을 연결해 드리겠습니다.\n",
      "shopping_cart : [{'name': '불고기 버거', 'num': '1', 'price': '4200', 'set_menu': True, 'set_price': '4200'}, {'name': '후렌치 후라이', 'num': '1', 'price': '3000', 'set_menu': False}, {'name': '상하이 치킨 스낵랩', 'num': '1', 'price': '4000', 'set_menu': False}]\n"
     ]
    }
   ],
   "source": [
    "import json\n",
    "\n",
    "llm = ChatOpenAI(model_name=\"gpt-4o-mini-2024-07-18\", temperature=0.3)\n",
    "# llm = ChatAnthropic(model_name=\"claude-3-5-sonnet-20240620\")\n",
    "\n",
    "question = input(\"질문을 입력하세요: \")\n",
    "\n",
    "# 의도추측 LLM\n",
    "def parse_response(response_str):\n",
    "    try:\n",
    "        response_dict = json.loads(response_str)\n",
    "    except json.JSONDecodeError:\n",
    "        response_dict = {\"error\": \"파싱 오류\", \"원본\": response_str}\n",
    "    return response_dict\n",
    "\n",
    "intent_chain = PromptTemplate.from_template(\"\"\"\n",
    "아래 질문을 보고 사용자가 원하는 의도를 '주문', '추천', '취소', '결제', '기타' 중 하나로 정확하게 분류하세요.\n",
    "\n",
    "분류 기준:\n",
    "- 주문: 특정 메뉴를 정확히 주문하려는 경우 (예: '빅맥 하나 주세요', '감자튀김 추가')\n",
    "- 추천: 특정 메뉴 이름 대신 추천을 요청하거나 메뉴 선택에 도움을 원하는 경우 (예: '무엇이 맛있나요?', '매콤한 음식 추천해줘')\n",
    "- 취소: 이전에 진행된 주문을 취소하려는 경우 (예: '주문 취소해 주세요', '아까 주문한 것 취소하고 싶어요')\n",
    "- 결제: 주문 완료 후 결제를 요청하는 경우 (예: '결제할거야', '주문 완료')\n",
    "- 기타: 위의 네 가지 분류에 해당하지 않는 경우 (예: '화장실은 어디인가요?', '영업 시간은 언제인가요?')\n",
    "\n",
    "<질문>\n",
    "{question}\n",
    "</질문>\n",
    "\n",
    "질문의 분류와 해당 질문에 포함된 주요 키워드를 JSON 형식으로 출력하세요.\n",
    "\n",
    "조건:\n",
    "- 질문의 분류와 해당 질문에 포함된 주요 키워드를 딕셔너리 형식으로 출력하세요.\n",
    "- 분류가 '주문'일 때만 키워드를 출력하세요. 다른 분류에서는 키워드를 출력하지 마세요\n",
    "- 주문이 세트메뉴인 경우, 버거명에 세트메뉴 키워드를 포함하세요\n",
    "\n",
    "예시 출력: {{\"분류\": \"주문\", \"키워드\": \"빅맥\"}}\n",
    "예시 출력: {{\"분류\": \"추천\"}}\n",
    "\"\"\") | llm | StrOutputParser()\n",
    "\n",
    "# 이름추측 LLM\n",
    "class CustomOutputParser(BaseOutputParser):\n",
    "    def parse(self, text: str) -> dict:\n",
    "        # 한심 'answer' 키로 '정답'을 반환\n",
    "        return {\"answer\": text.strip()}\n",
    "\n",
    "output_parser = CustomOutputParser()\n",
    "\n",
    "name_chain = PromptTemplate.from_template(\"\"\"\n",
    "사용자의 질문과 메뉴 리스트를 비교하여 사용자의 질문과 비슷한 메뉴가 있는지 확인하세요.\n",
    "비슷한 이름의 메뉴가 있다면 비슷한 메뉴를 모두 출력하세요\n",
    "비슷한 메뉴가 없다면 \"없음\"이라고 출력하세요.\n",
    "출력 시 메뉴 이름만 출력하세요\n",
    "\n",
    "<메뉴 리스트>\n",
    "['맥크리스피 스리라차 마요', '베토디 스리라차 마요', '맥스파이시 상하이 버거', '토마토 치즈 비프 버거', '더블 쿼터파운더 치즈', '쿼터파운더 치즈', '빅맥', '맥크리스피 디럭스 버거', '맥크리스피 클래식 버거', '1955 버거', '맥치킨 모짜렐라', '맥치킨', '더블 불고기 버거', '불고기 버거', '슈슈 버거', '슈비 버거', '베이컨 토마토 디럭스', '치즈버거', '더블 치즈버거', '트리플 치즈버거', '햄버거', '소시지 스낵랩', '맥윙', '맥윙콤보', '코울슬로', '상하이 치킨 스낵랩', '골든 모짜렐라 치즈스틱', '후렌치 후라이', '맥너겟', '맥스파이시치킨 텐더', '해쉬 브라운', '애플 파이', '베리 스트로베리 맥플러리', '오레오 맥플러리', '딸기 오레오 맥플러리', '초코 오레오 맥플러리', '스트로베리콘', '아이스크림콘', '바닐라 선데이 아이스크림', '초코 선데이 아이스크림', '딸기 선데이 아이스크림', '오레오 아포가토', '바닐라 라떼', '아이스 바닐라 라떼', '카페라떼', '디카페인 카페라떼', '아이스 카페라떼', '디카페인 아이스 카페라떼', '아메리카노', '디카페인 아메리카노', '아이스 아메리카노', '디카페인 아이스 아메리카노', '카푸치노', '디카페인 카푸치노', '드립 커피', '아이스 드립 커피', '코카-콜라', '코카-콜라 제로', '스프라이트', '환타', '바닐라 쉐이크 Medium', '딸기 쉐이크 Medium', '초코 쉐이크 Medium', '오렌지 주스', '생수']\n",
    "</메뉴 리스트>\n",
    "\n",
    "<질문>\n",
    "{question}\n",
    "</질문>\n",
    "\n",
    "\"\"\") | llm | output_parser\n",
    "\n",
    "# 빠른주문 모듈 전처리 함수들\n",
    "def process_keyword(keyword):\n",
    "    keyword = ''.join(keyword)\n",
    "    keyword = keyword.replace(\"세트\", \"\").strip()\n",
    "    keyword = keyword.replace(\"버거\", \"\").strip()    \n",
    "    return keyword\n",
    "\n",
    "def save_menu(keyword):\n",
    "    menu_data = None\n",
    "    for item in data:\n",
    "        if item['page_content']['name'] == keyword:\n",
    "            menu_data = {\n",
    "                \"name\": item['page_content']['name'],\n",
    "                \"category\": item['page_content']['category'],\n",
    "                \"description\": item['page_content']['description'],\n",
    "                \"price\": item['page_content']['price'],\n",
    "                \"nutrition\": item['page_content']['nutrition'],\n",
    "                \"origin\": item['page_content']['origin']\n",
    "            }\n",
    "            break\n",
    "    if menu_data:\n",
    "        menu_data_json = json.dumps(menu_data, ensure_ascii=False, indent=4)\n",
    "        return menu_data_json\n",
    "    else:\n",
    "        return None\n",
    "\n",
    "def find_menu(keyword, menu_list):\n",
    "    for menu in menu_list:\n",
    "        if keyword == menu.replace('버거', '').strip():\n",
    "            return save_menu(menu)\n",
    "    return None\n",
    "\n",
    "def add_to_cart(order_data, num):\n",
    "    cart = {}\n",
    "    cart[\"name\"] = order_data[\"name\"]\n",
    "    cart[\"num\"] = num\n",
    "    cart[\"price\"] = order_data[\"price\"]\n",
    "    cart[\"set_menu\"] = order_data[\"set_menu\"]\n",
    "    if order_data[\"set_menu\"]:\n",
    "        cart[\"set_price\"] = order_data[\"price\"]  #나중에 set_price로 변경예정\n",
    "    shopping_cart.append(cart)\n",
    "\n",
    "intent = intent_chain.invoke(question)\n",
    "parsed_intent = parse_response(intent)\n",
    "category = parsed_intent.get('분류')\n",
    "intent_keyword = parsed_intent.get('키워드')\n",
    "\n",
    "### 빠른주문 모듈\n",
    "recommend = False\n",
    "set_menu = False\n",
    "menu_data = []\n",
    "shopping_cart = []\n",
    "unrecognized_keywords = []\n",
    "\n",
    "if category == '주문':\n",
    "    try:\n",
    "        keyword_list = intent_keyword.split(',')\n",
    "        for keyword in keyword_list:\n",
    "            n_keyword = process_keyword(keyword)\n",
    "            llm_keyword = process_keyword(name_chain.invoke(keyword)[\"answer\"])\n",
    "            menu_data_json = find_menu(n_keyword, menu_list) or find_menu(llm_keyword, menu_list)\n",
    "            if menu_data_json is None:\n",
    "                unrecognized_keywords.append(keyword)\n",
    "                recommend = True\n",
    "            else:\n",
    "                menu_data_json = json.loads(menu_data_json) if isinstance(menu_data_json, str) else menu_data_json\n",
    "                if \"세트\" in keyword:\n",
    "                    menu_data_json['set_menu'] = True\n",
    "                else:\n",
    "                    pass\n",
    "                menu_data.append(menu_data_json)\n",
    "    except KeyError as e:\n",
    "        print(f\"키워드 없음: {e}\")\n",
    "        recommend = True\n",
    "    except TypeError as e:\n",
    "        print(f\"TypeError 발생: {e}\")\n",
    "        recommend = True\n",
    "    except Exception as e:  # 기타 에러 처리\n",
    "        print(f\"에러 발생: {e}\")\n",
    "        recommend = True\n",
    "else:\n",
    "    pass\n",
    "    \n",
    "if menu_data:\n",
    "    for order_data in menu_data:\n",
    "        num = input(f\"{order_data['name']} 메뉴가 맞으신가요? 수량은 몇 개 드릴까요?\")                \n",
    "        add_to_cart(order_data, num)\n",
    "if unrecognized_keywords:\n",
    "    print(f\"선택하신 메뉴 중 확인할 수 없는 항목이 있습니다: {unrecognized_keywords}. 추천 챗봇을 연결해 드리겠습니다.\")\n",
    "\n",
    "print(f\"shopping_cart : {shopping_cart}\")"
   ]
  },
  {
   "cell_type": "markdown",
   "metadata": {},
   "source": [
    "가격구성....헬게이트.....  \n",
    "SHOPPING CART [[{}]] 최종 주문LIST에 또 APPEND하기  \n",
    "'세트'이면 세트의 갯수를 물어보도록 하기  \n",
    "세트, 단품 나눈데서 아예 메뉴 추가하면 되려나?  \n",
    "버거가 세트메뉴이면 후렌치 후라이, 콜라 하나씩 엮어서 세트가격 묶고, 추가메뉴는 추가가격 계산하고, 세트구성이 완전히 되지 않으면 정정하는 작업을 '결제'모듈에서 실행"
   ]
  },
  {
   "cell_type": "markdown",
   "metadata": {},
   "source": [
    "#### 디버깅과정"
   ]
  },
  {
   "cell_type": "code",
   "execution_count": null,
   "metadata": {},
   "outputs": [],
   "source": [
    "import json\n",
    "\n",
    "llm = ChatOpenAI(model_name=\"gpt-4o-mini-2024-07-18\", temperature=0.3)\n",
    "# llm = ChatAnthropic(model_name=\"claude-3-5-sonnet-20240620\")\n",
    "\n",
    "question = input(\"질문을 입력하세요: \")\n",
    "\n",
    "# # 메뉴명 추출\n",
    "# file_path = '/home/yoojin/ML/aiffel/HackaThon/modu_hackaton/LLM/files/menu_1014.json'\n",
    "\n",
    "# with open(file_path, 'r', encoding='utf-8') as file:\n",
    "#     data = json.load(file)\n",
    "# menu_list = []\n",
    "# for item in data:\n",
    "#     menu_name = item['page_content']['name']\n",
    "#     menu_list.append(menu_name)\n",
    "\n",
    "# 의도추측 LLM\n",
    "def parse_response(response_str):\n",
    "    try:\n",
    "        response_dict = json.loads(response_str)\n",
    "    except json.JSONDecodeError:\n",
    "        response_dict = {\"error\": \"파싱 오류\", \"원본\": response_str}\n",
    "    return response_dict\n",
    "\n",
    "intent_chain = PromptTemplate.from_template(\"\"\"\n",
    "아래 질문을 보고 사용자가 원하는 의도를 '주문', '추천', '취소', '결제', '기타' 중 하나로 정확하게 분류하세요.\n",
    "\n",
    "분류 기준:\n",
    "- 주문: 특정 메뉴를 정확히 주문하려는 경우 (예: '빅맥 하나 주세요', '감자튀김 추가')\n",
    "- 추천: 특정 메뉴 이름 대신 추천을 요청하거나 메뉴 선택에 도움을 원하는 경우 (예: '무엇이 맛있나요?', '매콤한 음식 추천해줘')\n",
    "- 취소: 이전에 진행된 주문을 취소하려는 경우 (예: '주문 취소해 주세요', '아까 주문한 것 취소하고 싶어요')\n",
    "- 결제: 주문 완료 후 결제를 요청하는 경우 (예: '결제할거야', '주문 완료')\n",
    "- 기타: 위의 네 가지 분류에 해당하지 않는 경우 (예: '화장실은 어디인가요?', '영업 시간은 언제인가요?')\n",
    "\n",
    "<질문>\n",
    "{question}\n",
    "</질문>\n",
    "\n",
    "질문의 분류와 해당 질문에 포함된 주요 키워드를 JSON 형식으로 출력하세요.\n",
    "\n",
    "조건:\n",
    "- 질문의 분류와 해당 질문에 포함된 주요 키워드를 딕셔너리 형식으로 출력하세요.\n",
    "- 분류가 '주문'일 때만 키워드를 출력하세요. 다른 분류에서는 키워드를 출력하지 마세요\n",
    "- 주문이 세트메뉴인 경우, 버거명에 세트메뉴 키워드를 포함하세요\n",
    "\n",
    "예시 출력: {{\"분류\": \"주문\", \"키워드\": \"빅맥\"}}\n",
    "예시 출력: {{\"분류\": \"추천\"}}\n",
    "\"\"\") | llm | StrOutputParser()\n",
    "\n",
    "# 이름추측 LLM\n",
    "class CustomOutputParser(BaseOutputParser):\n",
    "    def parse(self, text: str) -> dict:\n",
    "        # 한심 'answer' 키로 '정답'을 반환\n",
    "        return {\"answer\": text.strip()}\n",
    "\n",
    "output_parser = CustomOutputParser()\n",
    "\n",
    "name_chain = PromptTemplate.from_template(\"\"\"\n",
    "사용자의 질문과 메뉴 리스트를 비교하여 사용자의 질문과 비슷한 메뉴가 있는지 확인하세요.\n",
    "비슷한 이름의 메뉴가 있다면 비슷한 메뉴를 모두 출력하세요\n",
    "비슷한 메뉴가 없다면 \"없음\"이라고 출력하세요.\n",
    "출력 시 메뉴 이름만 출력하세요\n",
    "\n",
    "<메뉴 리스트>\n",
    "['맥크리스피 스리라차 마요', '베토디 스리라차 마요', '맥스파이시 상하이 버거', '토마토 치즈 비프 버거', '더블 쿼터파운더 치즈', '쿼터파운더 치즈', '빅맥', '맥크리스피 디럭스 버거', '맥크리스피 클래식 버거', '1955 버거', '맥치킨 모짜렐라', '맥치킨', '더블 불고기 버거', '불고기 버거', '슈슈 버거', '슈비 버거', '베이컨 토마토 디럭스', '치즈버거', '더블 치즈버거', '트리플 치즈버거', '햄버거', '소시지 스낵랩', '맥윙', '맥윙콤보', '코울슬로', '상하이 치킨 스낵랩', '골든 모짜렐라 치즈스틱', '후렌치 후라이', '맥너겟', '맥스파이시치킨 텐더', '해쉬 브라운', '애플 파이', '베리 스트로베리 맥플러리', '오레오 맥플러리', '딸기 오레오 맥플러리', '초코 오레오 맥플러리', '스트로베리콘', '아이스크림콘', '바닐라 선데이 아이스크림', '초코 선데이 아이스크림', '딸기 선데이 아이스크림', '오레오 아포가토', '바닐라 라떼', '아이스 바닐라 라떼', '카페라떼', '디카페인 카페라떼', '아이스 카페라떼', '디카페인 아이스 카페라떼', '아메리카노', '디카페인 아메리카노', '아이스 아메리카노', '디카페인 아이스 아메리카노', '카푸치노', '디카페인 카푸치노', '드립 커피', '아이스 드립 커피', '코카-콜라', '코카-콜라 제로', '스프라이트', '환타', '바닐라 쉐이크 Medium', '딸기 쉐이크 Medium', '초코 쉐이크 Medium', '오렌지 주스', '생수']\n",
    "</메뉴 리스트>\n",
    "\n",
    "<질문>\n",
    "{question}\n",
    "</질문>\n",
    "\n",
    "\"\"\") | llm | output_parser\n",
    "\n",
    "# 빠른주문 모듈 전처리 함수들\n",
    "def process_keyword(keyword):\n",
    "    keyword = ''.join(keyword)\n",
    "    keyword = keyword.replace(\"세트\", \"\").strip()\n",
    "    keyword = keyword.replace(\"버거\", \"\").strip()    \n",
    "    return keyword\n",
    "\n",
    "def save_menu(keyword):\n",
    "    menu_data = None\n",
    "    for item in data:\n",
    "        if item['page_content']['name'] == keyword:\n",
    "            menu_data = {\n",
    "                \"name\": item['page_content']['name'],\n",
    "                \"category\": item['page_content']['category'],\n",
    "                \"description\": item['page_content']['description'],\n",
    "                \"price\": item['page_content']['price'],\n",
    "                \"nutrition\": item['page_content']['nutrition'],\n",
    "                \"origin\": item['page_content']['origin']\n",
    "            }\n",
    "            break\n",
    "    if menu_data:\n",
    "        menu_data_json = json.dumps(menu_data, ensure_ascii=False, indent=4)\n",
    "        return menu_data_json\n",
    "    else:\n",
    "        return None\n",
    "\n",
    "def find_menu(keyword, menu_list):\n",
    "    for menu in menu_list:\n",
    "        if keyword == menu.replace('버거', '').strip():\n",
    "            return save_menu(menu)\n",
    "    return None\n",
    "\n",
    "def add_to_cart(order_data, num):\n",
    "    cart = {}\n",
    "    cart[\"name\"] = order_data[\"name\"]\n",
    "    cart[\"num\"] = num\n",
    "    cart[\"price\"] = order_data[\"price\"]\n",
    "    cart[\"set_menu\"] = order_data[\"set_menu\"]\n",
    "    if order_data[\"set_menu\"]:\n",
    "        cart[\"set_price\"] = order_data[\"price\"]  #나중에 set_price로 변경예정\n",
    "    shopping_cart.append(cart)\n",
    "\n",
    "intent = intent_chain.invoke(question)\n",
    "parsed_intent = parse_response(intent)\n",
    "category = parsed_intent.get('분류')\n",
    "intent_keyword = parsed_intent.get('키워드')  # 키워드가 없으면 None"
   ]
  },
  {
   "cell_type": "code",
   "execution_count": null,
   "metadata": {},
   "outputs": [
    {
     "name": "stdout",
     "output_type": "stream",
     "text": [
      "{\"분류\": \"주문\", \"키워드\": \"불고기 버거 세트, 후렌치후라이, 콜라, 상하이 치킨 스낵랩\"}\n",
      "{'분류': '주문', '키워드': '불고기 버거 세트, 후렌치후라이, 콜라, 상하이 치킨 스낵랩'}\n",
      "주문\n",
      "불고기 버거 세트, 후렌치후라이, 콜라, 상하이 치킨 스낵랩\n"
     ]
    }
   ],
   "source": [
    "question = \"세트로 불고기 버거에 후렌치후라이 하나랑 콜라주고, 상하이 치킨 스낵랩도 하나 추가해줘\"\n",
    "intent = intent_chain.invoke(question)\n",
    "parsed_intent = parse_response(intent)\n",
    "category = parsed_intent.get('분류')\n",
    "intent_keyword = parsed_intent.get('키워드')  # 키워드가 없으면 None\n",
    "print(intent)\n",
    "print(parsed_intent)\n",
    "print(category)\n",
    "print(intent_keyword)"
   ]
  },
  {
   "cell_type": "code",
   "execution_count": null,
   "metadata": {},
   "outputs": [
    {
     "name": "stdout",
     "output_type": "stream",
     "text": [
      "keyword_list : ['불고기 버거 세트', ' 후렌치후라이', ' 콜라', ' 상하이 치킨 스낵랩']\n",
      "keyword : 불고기 버거 세트\n",
      "n_keyword : 불고기\n",
      "llm_keyword : 불고기\n",
      "menu_data_json : {'name': '불고기 버거', 'category': '버거', 'description': '한국인의 입맛에 딱 맞는 불고기 소스에잘 재운 패티와\\r\\n고소한 마요네즈,신선한 양상추의 맛있는 조합.', 'price': '4200', 'nutrition': {'중량(g)': '167g', '중량(ml)': '-', '열량': '409kcal', '당': '14g', '단백질': '14g', '포화지방': '6g', '나트륨': '670mg', '카페인': '-'}, 'origin': '돼지고기:국내산', 'set_menu': True}\n",
      "--------------------------------\n",
      "keyword :  후렌치후라이\n",
      "n_keyword : 후렌치후라이\n",
      "llm_keyword : 후렌치 후라이\n",
      "menu_data_json : {'name': '후렌치 후라이', 'category': '사이드', 'description': '통으로 썰어낸 감자를 맥도날드만의 노하우로 튀겨낸\\r\\n남다른 맛과 바삭함!맥도날드의 역사가 담긴 월드 클래스 후렌치 후라이', 'price': '3000', 'nutrition': {'중량(g)': '-', '중량(ml)': '-', '열량': '-', '당': '-', '단백질': '-', '포화지방': '-', '나트륨': '-', '카페인': '-'}, 'origin': '', 'set_menu': False}\n",
      "--------------------------------\n",
      "keyword :  콜라\n",
      "n_keyword : 콜라\n",
      "llm_keyword : 코카-콜라  \n",
      "코카-콜라 제로\n",
      "unrecognized_keywords : [' 콜라']\n",
      "keyword :  상하이 치킨 스낵랩\n",
      "n_keyword : 상하이 치킨 스낵랩\n",
      "llm_keyword : 상하이 치킨 스낵랩\n",
      "menu_data_json : {'name': '상하이 치킨 스낵랩', 'category': '사이드', 'description': '매콤한 치킨에 달콤한 화이트 마요 소스로 매콤달콤하게!베이컨에 양상추, 또띠아까지 어우러져씹는 맛까지 즐겁다!', 'price': '4000', 'nutrition': {'중량(g)': '112g', '중량(ml)': '-', '열량': '303kcal', '당': '3g', '단백질': '12g', '포화지방': '3.7g', '나트륨': '812mg', '카페인': '-'}, 'origin': '닭고기:국내산돼지고기(베이컨):외국산(아일랜드,스페인,캐나다)', 'set_menu': False}\n",
      "--------------------------------\n",
      "order_data : {'name': '불고기 버거', 'category': '버거', 'description': '한국인의 입맛에 딱 맞는 불고기 소스에잘 재운 패티와\\r\\n고소한 마요네즈,신선한 양상추의 맛있는 조합.', 'price': '4200', 'nutrition': {'중량(g)': '167g', '중량(ml)': '-', '열량': '409kcal', '당': '14g', '단백질': '14g', '포화지방': '6g', '나트륨': '670mg', '카페인': '-'}, 'origin': '돼지고기:국내산', 'set_menu': True}\n",
      "order_data : {'name': '후렌치 후라이', 'category': '사이드', 'description': '통으로 썰어낸 감자를 맥도날드만의 노하우로 튀겨낸\\r\\n남다른 맛과 바삭함!맥도날드의 역사가 담긴 월드 클래스 후렌치 후라이', 'price': '3000', 'nutrition': {'중량(g)': '-', '중량(ml)': '-', '열량': '-', '당': '-', '단백질': '-', '포화지방': '-', '나트륨': '-', '카페인': '-'}, 'origin': '', 'set_menu': False}\n",
      "order_data : {'name': '상하이 치킨 스낵랩', 'category': '사이드', 'description': '매콤한 치킨에 달콤한 화이트 마요 소스로 매콤달콤하게!베이컨에 양상추, 또띠아까지 어우러져씹는 맛까지 즐겁다!', 'price': '4000', 'nutrition': {'중량(g)': '112g', '중량(ml)': '-', '열량': '303kcal', '당': '3g', '단백질': '12g', '포화지방': '3.7g', '나트륨': '812mg', '카페인': '-'}, 'origin': '닭고기:국내산돼지고기(베이컨):외국산(아일랜드,스페인,캐나다)', 'set_menu': False}\n",
      "shopping_cart : [{'name': '불고기 버거', 'num': '1', 'price': '4200', 'set_menu': True, 'set_price': '4200'}, {'name': '후렌치 후라이', 'num': '2', 'price': '3000', 'set_menu': False}, {'name': '상하이 치킨 스낵랩', 'num': '2', 'price': '4000', 'set_menu': False}]\n",
      "--------------------------------\n",
      "선택하신 메뉴 중 확인할 수 없는 항목이 있습니다: [' 콜라']. 추천 챗봇을 연결해 드리겠습니다.\n",
      "--------------------------------\n"
     ]
    }
   ],
   "source": [
    "### 빠른주문 모듈\n",
    "recommend = False\n",
    "set_menu = False\n",
    "menu_data = []\n",
    "shopping_cart = []\n",
    "unrecognized_keywords = []\n",
    "\n",
    "if category == '주문':\n",
    "    try:\n",
    "        keyword_list = intent_keyword.split(',')\n",
    "        print(f\"keyword_list : {keyword_list}\")\n",
    "        for keyword in keyword_list:\n",
    "            n_keyword = process_keyword(keyword)\n",
    "            llm_keyword = process_keyword(name_chain.invoke(keyword)[\"answer\"])\n",
    "            print(f\"keyword : {keyword}\")\n",
    "            print(f\"n_keyword : {n_keyword}\")\n",
    "            print(f\"llm_keyword : {llm_keyword}\")\n",
    "            menu_data_json = find_menu(n_keyword, menu_list) or find_menu(llm_keyword, menu_list)\n",
    "            if menu_data_json is None:\n",
    "                unrecognized_keywords.append(keyword)\n",
    "                print(f\"unrecognized_keywords : {unrecognized_keywords}\")\n",
    "                recommend = True\n",
    "            else:\n",
    "                menu_data_json = json.loads(menu_data_json) if isinstance(menu_data_json, str) else menu_data_json\n",
    "                if \"세트\" in keyword:\n",
    "                    menu_data_json['set_menu'] = True\n",
    "                else:\n",
    "                    menu_data_json['set_menu'] = False\n",
    "                menu_data.append(menu_data_json)\n",
    "                print(f\"menu_data_json : {menu_data_json}\")\n",
    "                print('--------------------------------')\n",
    "    except KeyError as e:\n",
    "        print(f\"키워드 없음: {e}\")\n",
    "        recommend = True\n",
    "    except TypeError as e:\n",
    "        print(f\"TypeError 발생: {e}\")\n",
    "        recommend = True\n",
    "    except Exception as e:  # 기타 에러 처리\n",
    "        print(f\"에러 발생: {e}\")\n",
    "        recommend = True\n",
    "else:\n",
    "    print(\"주문 의도가 아닙니다.\")\n",
    "    print(recommend)\n",
    "    \n",
    "if menu_data:\n",
    "    for order_data in menu_data:\n",
    "        num = input(f\"{order_data['name']} 메뉴가 맞으신가요? 수량은 몇 개 드릴까요?\")                \n",
    "        add_to_cart(order_data, num)\n",
    "    print(f\"shopping_cart : {shopping_cart}\")\n",
    "    print('--------------------------------')\n",
    "if unrecognized_keywords:\n",
    "    print(f\"선택하신 메뉴 중 확인할 수 없는 항목이 있습니다: {unrecognized_keywords}. 추천 챗봇을 연결해 드리겠습니다.\")\n",
    "    print('--------------------------------')"
   ]
  },
  {
   "cell_type": "markdown",
   "metadata": {},
   "source": [
    "#### 메뉴명 추출"
   ]
  },
  {
   "cell_type": "code",
   "execution_count": 8,
   "metadata": {},
   "outputs": [
    {
     "name": "stdout",
     "output_type": "stream",
     "text": [
      "['맥크리스피 스리라차 마요', '베토디 스리라차 마요', '맥스파이시 상하이 버거', '토마토 치즈 비프 버거', '더블 쿼터파운더 치즈', '쿼터파운더 치즈', '빅맥', '맥크리스피 디럭스 버거', '맥크리스피 클래식 버거', '1955 버거', '맥치킨 모짜렐라', '맥치킨', '더블 불고기 버거', '불고기 버거', '슈슈 버거', '슈비 버거', '베이컨 토마토 디럭스', '치즈버거', '더블 치즈버거', '트리플 치즈버거', '햄버거', '소시지 스낵랩', '맥윙', '맥윙콤보', '코울슬로', '상하이 치킨 스낵랩', '골든 모짜렐라 치즈스틱', '후렌치 후라이', '맥너겟', '맥스파이시치킨 텐더', '해쉬 브라운', '애플 파이', '베리 스트로베리 맥플러리', '오레오 맥플러리', '딸기 오레오 맥플러리', '초코 오레오 맥플러리', '스트로베리콘', '아이스크림콘', '바닐라 선데이 아이스크림', '초코 선데이 아이스크림', '딸기 선데이 아이스크림', '오레오 아포가토', '바닐라 라떼', '아이스 바닐라 라떼', '카페라떼', '디카페인 카페라떼', '아이스 카페라떼', '디카페인 아이스 카페라떼', '아메리카노', '디카페인 아메리카노', '아이스 아메리카노', '디카페인 아이스 아메리카노', '카푸치노', '디카페인 카푸치노', '드립 커피', '아이스 드립 커피', '코카-콜라', '코카-콜라 제로', '스프라이트', '환타', '바닐라 쉐이크 Medium', '딸기 쉐이크 Medium', '초코 쉐이크 Medium', '오렌지 주스', '생수']\n"
     ]
    }
   ],
   "source": [
    "#메뉴명 추출\n",
    "\n",
    "file_path = '/home/yoojin/ML/aiffel/HackaThon/modu_hackaton/LLM/files/menu_1014.json'\n",
    "\n",
    "with open(file_path, 'r', encoding='utf-8') as file:\n",
    "    data = json.load(file)\n",
    "\n",
    "# 메뉴명을 저장할 리스트\n",
    "menu_list = []\n",
    "for item in data:\n",
    "    menu_name = item['page_content']['name']\n",
    "    menu_list.append(menu_name)\n",
    "\n",
    "print(menu_list)"
   ]
  },
  {
   "cell_type": "markdown",
   "metadata": {},
   "source": [
    "#### 이름추측 LLM model"
   ]
  },
  {
   "cell_type": "code",
   "execution_count": 9,
   "metadata": {},
   "outputs": [],
   "source": [
    "def process_keyword(word):\n",
    "    word = ''.join(word)\n",
    "    word = word.replace(\"세트\", \"\").strip()\n",
    "    word = word.replace(\"버거\", \"\").strip()\n",
    "    return word"
   ]
  },
  {
   "cell_type": "code",
   "execution_count": 33,
   "metadata": {},
   "outputs": [],
   "source": [
    "def save_menu(keyword):\n",
    "    menu_data = None\n",
    "\n",
    "    # 데이터를 순회하면서 키워드와 일치하는 아이템을 찾음\n",
    "    for item in data:\n",
    "        if item['page_content']['name'] == keyword:\n",
    "            menu_data = {\n",
    "                \"name\": item['page_content']['name'],\n",
    "                \"category\": item['page_content']['category'],\n",
    "                \"description\": item['page_content']['description'],\n",
    "                \"price\": item['page_content']['price'],\n",
    "                \"nutrition\": item['page_content']['nutrition'],\n",
    "                \"origin\": item['page_content']['origin']\n",
    "            }\n",
    "            break\n",
    "\n",
    "    # JSON 형식으로 출력 (또는 이후에 사용)\n",
    "    if menu_data:\n",
    "        menu_data_json = json.dumps(menu_data, ensure_ascii=False, indent=4)\n",
    "        print(menu_data_json)\n",
    "        return menu_data_json\n",
    "    else:\n",
    "        print(\"해당 키워드와 일치하는 메뉴를 찾을 수 없습니다.\")\n",
    "\n",
    "def find_menu(keyword, menu_list):\n",
    "    if keyword in menu_list:\n",
    "        return save_menu(keyword)\n",
    "    return None"
   ]
  },
  {
   "cell_type": "code",
   "execution_count": null,
   "metadata": {},
   "outputs": [],
   "source": [
    "# 커스텀 출력 파서 정의\n",
    "class CustomOutputParser(BaseOutputParser):\n",
    "    def parse(self, text: str) -> dict:\n",
    "        # 항상 'answer' 키로 '정답'을 반환\n",
    "        return {\"answer\": text.strip()}\n",
    "\n",
    "# llm = ChatOpenAI(model_name=\"gpt-4o-mini-2024-07-18\", temperature=0.3)\n",
    "llm = ChatAnthropic(model_name=\"claude-3-5-sonnet-20240620\")\n",
    "output_parser = CustomOutputParser()\n",
    "\n",
    "# 프롬프트 템플릿 정의\n",
    "name_chain = PromptTemplate.from_template(\"\"\"\n",
    "사용자의 질문과 메뉴 리스트를 비교하여 사용자의 질문과 비슷한 메뉴가 있는지 확인하세요.\n",
    "비슷한 이름의 메뉴가 있다면 비슷한 메뉴를 모두 출력하세요\n",
    "비슷한 메뉴가 없다면 \"없음\"이라고 출력하세요.\n",
    "출력 시 메뉴 이름만 출력하세요\n",
    "\n",
    "<메뉴 리스트>\n",
    "['맥크리스피 스리라차 마요', '베토디 스리라차 마요', '맥스파이시 상하이 버거', '토마토 치즈 비프 버거', '더블 쿼터파운더 치즈', '쿼터파운더 치즈', '빅맥', '맥크리스피 디럭스 버거', '맥크리스피 클래식 버거', '1955 버거', '맥치킨 모짜렐라', '맥치킨', '더블 불고기 버거', '불고기 버거', '슈슈 버거', '슈비 버거', '베이컨 토마토 디럭스', '치즈버거', '더블 치즈버거', '트리플 치즈버거', '햄버거', '소시지 스낵랩', '맥윙', '맥윙콤보', '코울슬로', '상하이 치킨 스낵랩', '골든 모짜렐라 치즈스틱', '후렌치 후라이', '맥너겟', '맥스파이시치킨 텐더', '해쉬 브라운', '애플 파이', '베리 스트로베리 맥플러리', '오레오 맥플러리', '딸기 오레오 맥플러리', '초코 오레오 맥플러리', '스트로베리콘', '아이스크림콘', '바닐라 선데이 아이스크림', '초코 선데이 아이스크림', '딸기 선데이 아이스크림', '오레오 아포가토', '바닐라 라떼', '아이스 바닐라 라떼', '카페라떼', '디카페인 카페라떼', '아이스 카페라떼', '디카페인 아이스 카페라떼', '아메리카노', '디카페인 아메리카노', '아이스 아메리카노', '디카페인 아이스 아메리카노', '카푸치노', '디카페인 카푸치노', '드립 커피', '아이스 드립 커피', '코카-콜라', '코카-콜라 제로', '스프라이트', '환타', '바닐라 쉐이크 Medium', '딸기 쉐이크 Medium', '초코 쉐이크 Medium', '오렌지 주스', '생수']\n",
    "</메뉴 리스트>\n",
    "\n",
    "<질문>\n",
    "{question}\n",
    "</질문>\n",
    "\n",
    "\"\"\") | llm | output_parser\n",
    "\n"
   ]
  },
  {
   "cell_type": "code",
   "execution_count": null,
   "metadata": {},
   "outputs": [],
   "source": [
    "question = \"빅맥 주문할게\" \n",
    "intent = intent_chain.invoke(question)\n",
    "print(parse_response(intent))"
   ]
  },
  {
   "cell_type": "code",
   "execution_count": null,
   "metadata": {},
   "outputs": [
    {
     "name": "stdout",
     "output_type": "stream",
     "text": [
      "{'분류': '주문', '키워드': '크리스탈 버거'}\n"
     ]
    }
   ],
   "source": [
    "intent = intent_chain.invoke(\"크리스탈 버거 하나\")\n",
    "print(parse_response(intent))\n",
    "# 주문"
   ]
  },
  {
   "cell_type": "code",
   "execution_count": null,
   "metadata": {},
   "outputs": [
    {
     "name": "stdout",
     "output_type": "stream",
     "text": [
      "{'분류': '주문', '키워드': '베토디 세트'}\n"
     ]
    }
   ],
   "source": [
    "intent = intent_chain.invoke(\"베토디 세트 하나\")\n",
    "print(parse_response(intent))\n",
    "# 주문"
   ]
  },
  {
   "cell_type": "code",
   "execution_count": 113,
   "metadata": {},
   "outputs": [
    {
     "name": "stdout",
     "output_type": "stream",
     "text": [
      "{'분류': '주문', '키워드': '불고기 버거 세트, 후렌치후라이, 콜라, 상하이 치킨 스낵랩'}\n"
     ]
    }
   ],
   "source": [
    "intent = intent_chain.invoke(\"불고기 버거 세트에 후렌치후라이 하나랑 콜라주고, 상하이 치킨 스낵랩도 하나 추가해줘\")\n",
    "print(parse_response(intent))\n",
    "# 주문"
   ]
  },
  {
   "cell_type": "code",
   "execution_count": null,
   "metadata": {},
   "outputs": [],
   "source": [
    "parsed_intent = parse_response(intent)\n",
    "category = parsed_intent.get('분류')\n",
    "keyword = parsed_intent.get('키워드')  # 키워드가 없으면 None"
   ]
  },
  {
   "cell_type": "code",
   "execution_count": null,
   "metadata": {},
   "outputs": [
    {
     "name": "stdout",
     "output_type": "stream",
     "text": [
      "주문\n",
      "불고기 버거 세트, 후렌치후라이, 콜라, 상하이 치킨 스낵랩\n"
     ]
    }
   ],
   "source": [
    "print(category)\n",
    "print(keyword)"
   ]
  },
  {
   "cell_type": "code",
   "execution_count": null,
   "metadata": {},
   "outputs": [
    {
     "name": "stdout",
     "output_type": "stream",
     "text": [
      "<class 'list'>\n",
      "['불고기 버거 세트', ' 후렌치후라이', ' 콜라', ' 상하이 치킨 스낵랩']\n"
     ]
    }
   ],
   "source": [
    "keywords = keyword.split(',')\n",
    "print(type(keywords))\n",
    "print(keywords)"
   ]
  },
  {
   "cell_type": "code",
   "execution_count": null,
   "metadata": {},
   "outputs": [
    {
     "data": {
      "text/plain": [
       "{'answer': '맥크리스피 스리라차 마요'}"
      ]
     },
     "metadata": {},
     "output_type": "display_data"
    }
   ],
   "source": [
    "keyword = \"맥크리스탈 마요\"\n",
    "name_chain.invoke(keyword)"
   ]
  },
  {
   "cell_type": "code",
   "execution_count": null,
   "metadata": {},
   "outputs": [
    {
     "data": {
      "text/plain": [
       "{'answer': '맥크리스피 디럭스 버거'}"
      ]
     },
     "metadata": {},
     "output_type": "display_data"
    }
   ],
   "source": [
    "keyword = \"맥크리스탈 디럭스\"\n",
    "name_chain.invoke(keyword)"
   ]
  },
  {
   "cell_type": "code",
   "execution_count": null,
   "metadata": {},
   "outputs": [
    {
     "data": {
      "text/plain": [
       "{'answer': '맥크리스피 클래식 버거'}"
      ]
     },
     "metadata": {},
     "output_type": "display_data"
    }
   ],
   "source": [
    "keyword = \"맥크리스탈 클래식\"\n",
    "name_chain.invoke(keyword)"
   ]
  },
  {
   "cell_type": "code",
   "execution_count": null,
   "metadata": {},
   "outputs": [
    {
     "data": {
      "text/plain": [
       "{'answer': '맥크리스피 스리라차 마요\\n맥크리스피 디럭스 버거\\n맥크리스피 클래식 버거'}"
      ]
     },
     "metadata": {},
     "output_type": "display_data"
    }
   ],
   "source": [
    "keyword = \"맥크리스탈\"\n",
    "name_chain.invoke(keyword)\n",
    "# 세가지나 있어서 아마 모르는것 같음"
   ]
  },
  {
   "cell_type": "code",
   "execution_count": null,
   "metadata": {},
   "outputs": [
    {
     "data": {
      "text/plain": [
       "{'answer': '맥스파이시 상하이 버거\\n맥스파이시치킨 텐더'}"
      ]
     },
     "metadata": {},
     "output_type": "display_data"
    }
   ],
   "source": [
    "keyword = \"스파이시\"\n",
    "name_chain.invoke(keyword)\n"
   ]
  },
  {
   "cell_type": "code",
   "execution_count": null,
   "metadata": {},
   "outputs": [
    {
     "data": {
      "text/plain": [
       "{'answer': '베토디 스리라차 마요'}"
      ]
     },
     "metadata": {},
     "output_type": "display_data"
    }
   ],
   "source": [
    "keyword = \"베토디\"\n",
    "name_chain.invoke(keyword)\n",
    "# 베이컨 토마토 디럭스도 있음.. ㅜㅜ "
   ]
  },
  {
   "cell_type": "markdown",
   "metadata": {},
   "source": [
    "#### 빠른주문 모듈"
   ]
  },
  {
   "cell_type": "markdown",
   "metadata": {},
   "source": [
    "keyword가 없거나, menu list에 없으면 추천시스템으로 넘어가기"
   ]
  },
  {
   "cell_type": "code",
   "execution_count": 51,
   "metadata": {},
   "outputs": [
    {
     "name": "stdout",
     "output_type": "stream",
     "text": [
      "keyword : 베토디 세트\n",
      "n_keyword : 베토디\n",
      "llm_keyword : 베토디 스리라차 마요\n",
      "{\n",
      "    \"name\": \"베토디 스리라차 마요\",\n",
      "    \"category\": \"버거\",\n",
      "    \"description\": \"베이컨 토마토 디럭스에스리라차 마요 소스를 더해 색다른 매콤함!\",\n",
      "    \"price\": \"7600\",\n",
      "    \"nutrition\": {\n",
      "        \"중량(g)\": \"251g\",\n",
      "        \"중량(ml)\": \"-\",\n",
      "        \"열량\": \"621kcal\",\n",
      "        \"당\": \"13g\",\n",
      "        \"단백질\": \"29g\",\n",
      "        \"포화지방\": \"12g\",\n",
      "        \"나트륨\": \"985mg\",\n",
      "        \"카페인\": \"-\"\n",
      "    },\n",
      "    \"origin\": \"쇠고기:호주산돼지고기(베이컨):외국산(아일랜드,스페인,캐나다)\"\n",
      "}\n",
      "recommend : False\n",
      "set_menu : True\n"
     ]
    }
   ],
   "source": [
    "recommend = False\n",
    "set_menu = False\n",
    "\n",
    "if category == '주문':\n",
    "    # 이름처리\n",
    "    print(f\"keyword : {keyword}\")\n",
    "    n_keyword = process_keyword(keyword)\n",
    "    print(f\"n_keyword : {n_keyword}\")\n",
    "    llm_keyword = process_keyword(name_chain.invoke(keyword)[\"answer\"])\n",
    "    print(f\"llm_keyword : {llm_keyword}\")\n",
    "\n",
    "    # 키워드가 None일 경우 -> 추천모듈로 넘어가기\n",
    "    if keyword is None or llm_keyword == \"없음\":\n",
    "        recommend = True\n",
    "        print(\"키워드 없음 또는 없음\")\n",
    "    else:\n",
    "        try:\n",
    "            menu_data_json = None\n",
    "            # 세트메뉴인지 단품인지에 따라 처리\n",
    "            if \"세트\" in keyword:\n",
    "                set_menu = True\n",
    "                menu_data_json = find_menu(n_keyword, menu_list) or find_menu(llm_keyword, menu_list)\n",
    "                if menu_data_json is None:\n",
    "                    recommend = True\n",
    "                    print(\"세트 없음\")\n",
    "            else:  # 단품 메뉴인 경우\n",
    "                menu_data_json = find_menu(n_keyword, menu_list) or find_menu(llm_keyword, menu_list)\n",
    "                if menu_data_json is None:\n",
    "                    recommend = True\n",
    "                    print(\"메뉴 없음\")\n",
    "                else:\n",
    "                    pass\n",
    "        except KeyError as e:\n",
    "            print(f\"KeyError 발생: {e}\")\n",
    "            recommend = True\n",
    "        except TypeError as e:\n",
    "            print(f\"TypeError 발생: {e}\")\n",
    "            recommend = True\n",
    "        except Exception as e:  # 기타 에러 처리\n",
    "            print(f\"에러 발생: {e}\")\n",
    "            recommend = True\n",
    "            \n",
    "print(f\"recommend : {recommend}\")\n",
    "print(f\"set_menu : {set_menu}\")\n"
   ]
  },
  {
   "cell_type": "code",
   "execution_count": 57,
   "metadata": {},
   "outputs": [
    {
     "name": "stdout",
     "output_type": "stream",
     "text": [
      "type : <class 'dict'>\n",
      "menu_data_json : {'name': '베토디 스리라차 마요', 'category': '버거', 'description': '베이컨 토마토 디럭스에스리라차 마요 소스를 더해 색다른 매콤함!', 'price': '7600', 'nutrition': {'중량(g)': '251g', '중량(ml)': '-', '열량': '621kcal', '당': '13g', '단백질': '29g', '포화지방': '12g', '나트륨': '985mg', '카페인': '-'}, 'origin': '쇠고기:호주산돼지고기(베이컨):외국산(아일랜드,스페인,캐나다)'}\n"
     ]
    }
   ],
   "source": [
    "menu_data_json = json.loads(menu_data_json) if isinstance(menu_data_json, str) else menu_data_json\n",
    "print(f\"type : {type(menu_data_json)}\")\n",
    "print(f\"menu_data_json : {menu_data_json}\")\n"
   ]
  },
  {
   "cell_type": "code",
   "execution_count": 58,
   "metadata": {},
   "outputs": [
    {
     "data": {
      "text/plain": [
       "'베토디 스리라차 마요'"
      ]
     },
     "execution_count": 58,
     "metadata": {},
     "output_type": "execute_result"
    }
   ],
   "source": [
    "menu_data_json[\"name\"]"
   ]
  },
  {
   "cell_type": "markdown",
   "metadata": {},
   "source": [
    "### 장바구니 넣기(장바구니 모듈 python 만들기)"
   ]
  },
  {
   "cell_type": "markdown",
   "metadata": {},
   "source": [
    "단품, 세트 각각 딕셔너리에 묶어서 [[{단품1}], [{세트버거1},{세트사이드1},{세트음료1}],[{단품2}]]로 구성\n"
   ]
  },
  {
   "cell_type": "code",
   "execution_count": 59,
   "metadata": {},
   "outputs": [],
   "source": [
    "# 주문데이터 장바구니에 넘겨주기\n",
    "shopping_cart = []\n",
    "\n",
    "def add_to_cart(order_data,num):\n",
    "    cart = {}\n",
    "    cart[\"name\"] = order_data[\"name\"]\n",
    "    cart[\"num\"] = num\n",
    "    cart[\"price\"] = order_data[\"price\"]\n",
    "    shopping_cart.append(cart)"
   ]
  },
  {
   "cell_type": "code",
   "execution_count": 60,
   "metadata": {},
   "outputs": [],
   "source": [
    "add_to_cart(menu_data_json, 1)"
   ]
  },
  {
   "cell_type": "code",
   "execution_count": 61,
   "metadata": {},
   "outputs": [
    {
     "name": "stdout",
     "output_type": "stream",
     "text": [
      "[{'name': '베토디 스리라차 마요', 'num': 1, 'price': '7600'}]\n"
     ]
    }
   ],
   "source": [
    "print(shopping_cart)"
   ]
  },
  {
   "cell_type": "markdown",
   "metadata": {},
   "source": [
    "## 3. 추천 시스템, memory & langgraph test"
   ]
  },
  {
   "cell_type": "code",
   "execution_count": 227,
   "metadata": {},
   "outputs": [],
   "source": [
    "file_dir = \"/home/yoojin/ML/aiffel/HackaThon/modu_hackaton/LLM/files/menu_1014 copy.json\"\n",
    "\n",
    "with open(file_dir, 'r', encoding='utf-8') as file:\n",
    "    content = file.read()\n",
    "    # JSON 객체들을 리스트로 변환\n",
    "    json_objects = json.loads(content)\n",
    "\n",
    "# 파싱된 JSON 객체들을 문서로 변환\n",
    "docs = [\n",
    "    Document(\n",
    "        page_content=json.dumps(obj['page_content'], ensure_ascii=False),\n",
    "    )\n",
    "    for obj in json_objects\n",
    "]\n",
    "\n",
    "file_name = file_dir.split(\"/\")[-1]\n",
    "cache_dir = LocalFileStore(f\"./.cache/embeddings/{file_name}\")\n",
    "\n",
    "# CharacterTextSplitter를 사용하여 문서 분할\n",
    "text_splitter = CharacterTextSplitter(separator=\"\\n\\n\", chunk_size=100, chunk_overlap=0)\n",
    "split_docs = text_splitter.split_documents(docs)\n",
    "\n",
    "embeddings = UpstageEmbeddings(\n",
    "    model=\"solar-embedding-1-large\"\n",
    ")\n",
    "\n",
    "cached_embedder = CacheBackedEmbeddings.from_bytes_store(\n",
    "    underlying_embeddings=embeddings,\n",
    "    document_embedding_cache=cache_dir,\n",
    "    namespace=\"solar-embedding-1-large\",\n",
    ")\n",
    "vectorstore = FAISS.from_documents(\n",
    "    split_docs,\n",
    "    cached_embedder,\n",
    ")\n",
    "\n",
    "faiss = vectorstore.as_retriever(search_kwargs={\"k\": 4})\n",
    "\n",
    "bm25 = BM25Retriever.from_documents(split_docs)\n",
    "bm25.k = 4\n",
    "\n",
    "ensemble_retriever = EnsembleRetriever(\n",
    "    retrievers=[bm25, faiss],\n",
    "    weights=[0.3, 0.7],\n",
    "    search_type=\"mmr\",\n",
    ")"
   ]
  },
  {
   "cell_type": "code",
   "execution_count": 228,
   "metadata": {},
   "outputs": [
    {
     "name": "stdout",
     "output_type": "stream",
     "text": [
      "page_content='{\"name\": \"맥크리스피 스리라차 마요\", \"category\": \"버거\", \"description\": \"빠삭한 100% 통닭다리살 케이준 패티에스리라차 마요 소스를 더해 매콤 고소한 맛!\", \"price\": \"8600\", \"set_burger_price\": \"4900\", \"new_menu\": \"신제품\", \"nutrition\": {\"중량(g)\": \"289g\", \"중량(ml)\": \"-\", \"열량\": \"663kcal\", \"당\": \"15g\", \"단백질\": \"26g\", \"포화지방\": \"7g\", \"나트륨\": \"1508mg\", \"카페인\": \"-\"}, \"origin\": \"닭고기:태국산(경상지역), 브라질산(그 외 지역)\"}'\n"
     ]
    }
   ],
   "source": [
    "print(split_docs[0])"
   ]
  },
  {
   "cell_type": "code",
   "execution_count": 229,
   "metadata": {},
   "outputs": [],
   "source": [
    "# 메시지를 저장하는 리스트\n",
    "\n",
    "def save_message(message, role):\n",
    "    messages.append({\"message\": message, \"role\": role})\n",
    "    \n",
    "def get_memory():\n",
    "    return ConversationBufferMemory(\n",
    "        return_messages=True,\n",
    "        memory_key=\"chat_history\"\n",
    "    )"
   ]
  },
  {
   "cell_type": "code",
   "execution_count": 230,
   "metadata": {},
   "outputs": [],
   "source": [
    "llm = ChatAnthropic(model_name=\"claude-3-5-sonnet-20240620\")\n",
    "memory = get_memory()"
   ]
  },
  {
   "cell_type": "code",
   "execution_count": 232,
   "metadata": {},
   "outputs": [],
   "source": [
    "# recommend_template = ChatPromptTemplate.from_messages([\n",
    "#     (\"system\",\n",
    "#     \"\"\"\n",
    "#     당신은 맥도날드 가게의 점원입니다. \n",
    "#     나이가 많은 노인 고객의 주문을 도와주세요.\n",
    "#     나이와 관련된 어떤한 호칭도 하지 말고 '고객님'으로 부르세요.\n",
    "#     어린아이도 이해하기 쉬운 단어로 설명해주세요.\n",
    "#     상냥하고, 친절하고, 존댓말로 사용자의 질문에 답변을 해주세요. \n",
    "#     간결하게 답변해주세요.\n",
    "    \n",
    "#     반드시 제공된 정보만을 사용하여 질문에 대답하세요.\n",
    "#     질문과 가장 관련성이 높은 정보를 찾아서 답변하세요.\n",
    "#     메뉴추천은 최대 4개까지만 추천해주세요.\n",
    "#     충분한 정보를 바탕으로 정확히 답변할 수 있는 경우에만 답변하세요.\n",
    "#     항상 chat history를 고려하여 이전 대화내용과 관련되게 대답하세요\n",
    "\n",
    "#     답변이 확실하지 않을 경우, \"죄송합니다. 해당 질문에 대한 답을 찾을 수 없습니다.\"라고 답하세요.\n",
    "    \n",
    "#     주문 조건\n",
    "#     - 원하는 메뉴가 없이 추천을 받고싶으면 신메뉴를 추천해주세요.\n",
    "#     - 주문메뉴는 세트와 단품으로 구분한다.\n",
    "#     - 세트메뉴는 버거, 사이드, 음료가 반드시 포함되어야 한다.\n",
    "#     - 세트메뉴는 기본 미디엄 사이즈로 구성되며, 라지 사이즈로 변경 시 800원의 차액이 부과된다.\n",
    "#     - 세트메뉴의 기본 구성 사이드는 후렌치 후라이 미디엄 1개, 음료는 코카콜라 미디엄 1개이다.\n",
    "#     - 세트메뉴의 사이드는 코울슬로로 변경 가능하며 추가금액은 없다.\n",
    "#     - 세트메뉴의 음료는 '음료'카테고리 내에서 변경 가능하며, 변경할 경우 해당 메뉴끼리의 차액이 추가되는 점을 안내해 드린다.\n",
    "#     - 세트메뉴의 가격을 물어보면 'set_burger_price'의 값에 5600원을 더한 총 금액을 안내해 드린다.\n",
    "#     - 단품 후렌치후라이는 스몰, 미디엄, 라지 중 하나를 선택할 수 있으며, 스몰 사이즈는 2300원, 미디움 사이즈는 3000원, 라지 사이즈는 4000원이다.\n",
    "#     - 단품 음료는 미디엄, 라지 중 하나를 선택할 수 있으며, 미디엄 사이즈는 2600원, 라지 사이즈는 3100원이다.\n",
    "#     - 추가 주문이 필요한지 묻고, 추가 주문이 없으면 최종 주문결과를 출력한다.\n",
    "    \n",
    "#     주문결과 출력 :\n",
    "#     - 주문 결과는 세트메뉴와 단품메뉴를 각각 리스트로 묶어서 출력한다.\n",
    "#     - 주문 결과는 json 형식으로 출력한다.\n",
    "\n",
    "#     주문 결과 예시: \n",
    "#     [\n",
    "#         [\n",
    "#             {{'name': '불고기 버거', 'num': '1', 'price': '4200', 'set_menu': True, 'set_burger_price': '4000'}}, \n",
    "#             {{'name': '후렌치 후라이', 'num': '1', 'price': '3000'}},\n",
    "#             {{'name': '코카콜라', 'num': '1', 'price': '2600'}}\n",
    "#         ],\n",
    "#         [\n",
    "#             {{'name': '상하이 치킨 스낵랩', 'num': '1', 'price': '4000'}}\n",
    "#         ]\n",
    "#     ]\n",
    "#     Context: {context}\n",
    "#     Chat History: {chat_history}\n",
    "#     \"\"\"),\n",
    "#     (\"human\", \"{question}\"),\n",
    "# ])"
   ]
  },
  {
   "cell_type": "code",
   "execution_count": 235,
   "metadata": {},
   "outputs": [],
   "source": [
    "recommend_template = ChatPromptTemplate.from_messages([\n",
    "    (\"system\",\n",
    "    \"\"\"\n",
    "    당신은 맥도날드의 친절한 점원입니다.\n",
    "    고객님의 주문을 도와드리세요. 나이와 상관없이 '고객님'이라고만 부르고, 모든 설명은 어린아이도 이해할 수 있게 간단하게 해주세요. 친절하고 상냥하게 존댓말로 응대합니다.\n",
    "    \n",
    "    대답할 때는 다음 사항을 기억하세요:\n",
    "    1. 제공된 정보만으로 답변합니다.\n",
    "    2. 질문과 가장 관련성이 높은 정보를 찾아서 답변하세요.\n",
    "    3. 메뉴 추천은 4개 이하로 제한하고, 신메뉴를 먼저 추천하세요.\n",
    "    4. 항상 대화 기록을 고려해 대답하세요.\n",
    "    5. 확실하지 않은 경우 \"죄송합니다. 해당 질문에 대한 답을 찾을 수 없습니다.\"라고 답하세요.\n",
    "\n",
    "    **주문 조건:**\n",
    "    - 메뉴는 세트와 단품으로 구분됩니다.\n",
    "    - 세트메뉴는 버거, 사이드, 음료가 포함되며, 미디엄 사이즈가 기본입니다.\n",
    "    - 사이즈 업그레이드는 800원 추가 요금이 부과됩니다.\n",
    "    - 사이드는 후렌치 후라이 미디엄이 기본이며, 코울슬로로 무료 변경 가능합니다.\n",
    "    - 음료는 코카콜라 미디엄이 기본이며, 음료 변경 시 차액이 발생할 수 있습니다.\n",
    "    - 세트메뉴 가격은 'set_burger_price'에 5600원을 더한 금액입니다.\n",
    "    - 단품 후렌치 후라이는 스몰(2300원), 미디엄(3000원), 라지(4000원) 중 선택할 수 있습니다.\n",
    "    - 단품 음료는 미디엄(2600원) 또는 라지(3100원)입니다.\n",
    "\n",
    "    **주문 절차:**\n",
    "    - 먼저 고객의 주문을 받고 메뉴가 완성되면 추가 주문 또는 결제여부를 물어보세요.\n",
    "    - 메뉴의 주문이 완성되지 않은 경우 추가 주문 또는 결제여부를 묻지 마세요.\n",
    "    - 주문이 모두 완료되면 최종 주문 결과를 출력하세요.\n",
    "\n",
    "    **주문 결과 출력:**\n",
    "    - 세트와 단품 메뉴를 각각 리스트로 구분해 JSON 형식으로 출력합니다.\n",
    "    \n",
    "    **주문 결과 예시:**\n",
    "    [\n",
    "        [\n",
    "            {{'name': '불고기 버거', 'num': '1', 'price': '4200', 'set_menu': True, 'set_burger_price': '4000'}}, \n",
    "            {{'name': '후렌치 후라이', 'num': '1', 'price': '3000'}},\n",
    "            {{'name': '코카콜라', 'num': '1', 'price': '2600'}}\n",
    "        ],\n",
    "        [\n",
    "            {{'name': '상하이 치킨 스낵랩', 'num': '1', 'price': '4000'}}\n",
    "        ]\n",
    "    ]\n",
    "\n",
    "    **대화 예시:**\n",
    "    - 고객: \"추천 메뉴가 있나요?\"\n",
    "    - AI: \"신메뉴로 '1955 버거 세트', '맥스파이시 상하이 버거 세트', '베이컨 토마토 디럭스 세트', '상하이 치킨 스낵랩 세트'를 추천드립니다.\"\n",
    "\n",
    "    - 고객: \"1955 버거 세트 가격이 얼마인가요?\"\n",
    "    - AI: \"1955 버거 세트는 9600원입니다. 후렌치 후라이 미디엄과 코카콜라 미디엄이 포함됩니다.\"\n",
    "\n",
    "    **Context:** {context}\n",
    "    **Chat History:** {chat_history}\n",
    "    \"\"\"),\n",
    "    (\"human\", \"{question}\"),\n",
    "]) \n"
   ]
  },
  {
   "cell_type": "code",
   "execution_count": 233,
   "metadata": {},
   "outputs": [],
   "source": [
    "recommend_chain = {\n",
    "    \"context\": ensemble_retriever,\n",
    "    \"chat_history\": RunnableLambda(lambda _: memory.load_memory_variables({})[\"chat_history\"]),\n",
    "    \"question\": RunnablePassthrough()\n",
    "} | recommend_template | llm"
   ]
  },
  {
   "cell_type": "code",
   "execution_count": 237,
   "metadata": {},
   "outputs": [
    {
     "name": "stdout",
     "output_type": "stream",
     "text": [
      "AI : 안녕하세요, 고객님. 매콤한 메뉴를 찾으시는군요. 저희 맥도날드에서 매콤한 맛을 즐기실 수 있는 신메뉴를 추천해 드리겠습니다.\n",
      "\n",
      "1. 맥크리스피 스리라차 마요 버거: 빠삭한 100% 통닭다리살 케이준 패티에 스리라차 마요 소스를 더해 매콤하고 고소한 맛을 즐기실 수 있습니다.\n",
      "\n",
      "2. 베토디 스리라차 마요 버거: 베이컨 토마토 디럭스에 스리라차 마요 소스를 더해 색다른 매콤함을 느끼실 수 있습니다.\n",
      "\n",
      "3. 맥스파이시 치킨텐더: 부드러운 100% 닭안심살을 스파이시 시즈닝으로 매콤 바삭하게 튀겨낸 치킨 텐더입니다.\n",
      "\n",
      "4. 상하이 치킨 스낵랩: 매콤한 치킨에 달콤한 화이트 마요 소스로 매콤달콤한 맛을 즐기실 수 있습니다.\n",
      "\n",
      "이 중에서 어떤 메뉴가 마음에 드시나요? 더 자세한 설명이 필요하시면 말씀해 주세요.\n"
     ]
    }
   ],
   "source": [
    "messages = []\n",
    "memory.clear()\n",
    "\n",
    "while True:\n",
    "    # 사용자로부터 입력 받기\n",
    "    user_message = input(\"질문을 입력해주세요: \").strip()\n",
    "\n",
    "    # 입력이 비어있는 경우 반복문을 계속 진행\n",
    "    if not user_message:\n",
    "        continue\n",
    "    \n",
    "    save_message(user_message, \"user\")\n",
    "    \n",
    "    response = recommend_chain.invoke(user_message)\n",
    "    ai_response = response.content if hasattr(response, 'content') else response\n",
    "    save_message(ai_response, \"assistant\")\n",
    "    print(f\"AI : {ai_response}\")\n",
    "    \n",
    "    memory.save_context({\"input\": user_message}, {\"output\": ai_response})\n",
    "\n",
    "    # 주문 결과가 json 형식인지 확인하여 while문 종료\n",
    "    try:\n",
    "        # 문자열을 JSON으로 변환 시도\n",
    "        parsed_response = json.loads(ai_response)\n",
    "        \n",
    "        # JSON 변환이 성공하면 프로그램 종료\n",
    "        print(\"주문이 완료되었습니다. 프로그램을 종료합니다.\")\n",
    "        break\n",
    "    except json.JSONDecodeError:\n",
    "        # JSON 변환 실패 시, 반복 계속\n",
    "        pass\n"
   ]
  },
  {
   "cell_type": "code",
   "execution_count": 1,
   "metadata": {},
   "outputs": [
    {
     "ename": "NameError",
     "evalue": "name 'memory' is not defined",
     "output_type": "error",
     "traceback": [
      "\u001b[0;31m---------------------------------------------------------------------------\u001b[0m",
      "\u001b[0;31mNameError\u001b[0m                                 Traceback (most recent call last)",
      "Cell \u001b[0;32mIn[1], line 1\u001b[0m\n\u001b[0;32m----> 1\u001b[0m \u001b[43mmemory\u001b[49m\u001b[38;5;241m.\u001b[39mload_memory_variables({})[\u001b[38;5;124m\"\u001b[39m\u001b[38;5;124mchat_history\u001b[39m\u001b[38;5;124m\"\u001b[39m]\n",
      "\u001b[0;31mNameError\u001b[0m: name 'memory' is not defined"
     ]
    }
   ],
   "source": [
    "memory.load_memory_variables({})[\"chat_history\"]"
   ]
  },
  {
   "cell_type": "code",
   "execution_count": 224,
   "metadata": {},
   "outputs": [
    {
     "name": "stdout",
     "output_type": "stream",
     "text": [
      "[{'message': '', 'role': 'user'}]\n"
     ]
    }
   ],
   "source": [
    "print(messages)"
   ]
  },
  {
   "cell_type": "code",
   "execution_count": null,
   "metadata": {},
   "outputs": [],
   "source": []
  },
  {
   "cell_type": "code",
   "execution_count": null,
   "metadata": {},
   "outputs": [],
   "source": []
  },
  {
   "cell_type": "code",
   "execution_count": null,
   "metadata": {},
   "outputs": [],
   "source": []
  },
  {
   "cell_type": "code",
   "execution_count": null,
   "metadata": {},
   "outputs": [],
   "source": []
  },
  {
   "cell_type": "code",
   "execution_count": null,
   "metadata": {},
   "outputs": [],
   "source": []
  },
  {
   "cell_type": "code",
   "execution_count": null,
   "metadata": {},
   "outputs": [],
   "source": []
  },
  {
   "cell_type": "code",
   "execution_count": null,
   "metadata": {},
   "outputs": [],
   "source": []
  },
  {
   "cell_type": "code",
   "execution_count": null,
   "metadata": {},
   "outputs": [],
   "source": []
  },
  {
   "cell_type": "code",
   "execution_count": null,
   "metadata": {},
   "outputs": [],
   "source": []
  }
 ],
 "metadata": {
  "kernelspec": {
   "display_name": "RAG",
   "language": "python",
   "name": "python3"
  },
  "language_info": {
   "codemirror_mode": {
    "name": "ipython",
    "version": 3
   },
   "file_extension": ".py",
   "mimetype": "text/x-python",
   "name": "python",
   "nbconvert_exporter": "python",
   "pygments_lexer": "ipython3",
   "version": "3.10.12"
  }
 },
 "nbformat": 4,
 "nbformat_minor": 2
}

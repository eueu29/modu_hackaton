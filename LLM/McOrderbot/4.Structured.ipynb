{
 "cells": [
  {
   "cell_type": "code",
   "execution_count": 14,
   "metadata": {},
   "outputs": [
    {
     "data": {
      "text/plain": [
       "True"
      ]
     },
     "execution_count": 14,
     "metadata": {},
     "output_type": "execute_result"
    }
   ],
   "source": [
    "from dotenv import load_dotenv\n",
    "\n",
    "load_dotenv()"
   ]
  },
  {
   "cell_type": "code",
   "execution_count": 2,
   "metadata": {},
   "outputs": [
    {
     "name": "stdout",
     "output_type": "stream",
     "text": [
      "LangSmith 추적을 시작합니다.\n",
      "[프로젝트명]\n",
      "structured\n"
     ]
    }
   ],
   "source": [
    "from langchain_teddynote import logging\n",
    "\n",
    "logging.langsmith(\"structured\")"
   ]
  },
  {
   "cell_type": "markdown",
   "metadata": {},
   "source": [
    "### 모듈 import"
   ]
  },
  {
   "cell_type": "code",
   "execution_count": 150,
   "metadata": {},
   "outputs": [],
   "source": [
    "import pandas as pd\n",
    "import os\n",
    "from dotenv import load_dotenv\n",
    "from langchain_teddynote import logging\n",
    "from langchain.text_splitter import CharacterTextSplitter\n",
    "from langchain.retrievers import EnsembleRetriever\n",
    "from langchain_community.retrievers import BM25Retriever\n",
    "from langchain.embeddings import CacheBackedEmbeddings\n",
    "from langchain.storage import LocalFileStore\n",
    "from langchain_community.vectorstores import FAISS\n",
    "from langchain_upstage import UpstageEmbeddings, ChatUpstage\n",
    "from langchain_anthropic import ChatAnthropic\n",
    "from langchain.prompts import ChatPromptTemplate\n",
    "from langchain.schema.runnable import RunnablePassthrough, RunnableLambda \n",
    "from langchain.memory import ConversationBufferMemory\n",
    "from langchain.schema import Document\n",
    "from datetime import datetime\n",
    "from langchain_community.document_loaders import JSONLoader\n",
    "import json\n",
    "from langchain.chains.query_constructor.base import AttributeInfo\n",
    "from langchain.retrievers.self_query.base import SelfQueryRetriever\n",
    "from langchain.prompts import PromptTemplate\n",
    "from langchain_core.runnables import RunnablePassthrough\n",
    "from langchain_anthropic import ChatAnthropic\n",
    "from langchain.schema.output_parser import StrOutputParser"
   ]
  },
  {
   "cell_type": "markdown",
   "metadata": {},
   "source": [
    "## 1. 대분류 :의도파악하기"
   ]
  },
  {
   "cell_type": "code",
   "execution_count": 151,
   "metadata": {},
   "outputs": [],
   "source": [
    "# 주문하고 싶은 메뉴가 있다면 메뉴 이름을 말씀해주세요. 메뉴 추천을 받고 싶다면 선호하는 맛, 식재료, 스타일 등을 구체적으로 알려주시면 더 나은 추천이 가능합니다.\n",
    "\n",
    "intent_chain = PromptTemplate.from_template(\"\"\"\n",
    "아래 질문을 보고 사용자가 원하는 의도를 '주문', '추천', '취소', '결제', '기타' 중 하나로 정확하게 분류하세요.\n",
    "\n",
    "분류 기준:\n",
    "- 주문: 특정 메뉴를 정확히 주문하려는 경우 (예: '빅맥 하나 주세요', '감자튀김 추가')\n",
    "- 추천: 특정 메뉴 이름 대신 추천을 요청하거나 메뉴 선택에 도움을 원하는 경우 (예: '뭐가 맛있나요?', '매콤한 음식 추천해줘')\n",
    "- 취소: 이전에 진행된 주문을 취소하려는 경우 (예: '주문 취소해 주세요', '아까 주문한 것 취소하고 싶어요')\n",
    "- 결제: 주문 완료 후 결제를 요청하는 경우 (예: '결제할게요', '주문 끝났어')\n",
    "- 기타: 위의 네 가지 분류에 해당하지 않는 경우 (예: '화장실은 어디인가요?', '영업 시간은 언제인가요?')\n",
    "\n",
    "<질문>\n",
    "{question}\n",
    "</질문>\n",
    "\n",
    "질문의 분류와 해당 질문에 포함된 주요 키워드를 JSON 형식으로 출력하세요.\n",
    "\n",
    "조건:\n",
    "- 질문의 분류와 해당 질문에 포함된 주요 키워드를 딕셔너리 형식으로 출력하세요.\n",
    "- 분류가 '주문'일 때만 키워드를 추출하세요. 다른 분류에서는 키워드를 포함하지 않습니다.\n",
    "\n",
    "예시 출력: {{\"분류\": \"주문\", \"키워드\": \"빅맥\"}}\n",
    "예시 출력: {{\"분류\": \"추천\"}}\n",
    "\"\"\") | ChatUpstage() | StrOutputParser()"
   ]
  },
  {
   "cell_type": "code",
   "execution_count": 152,
   "metadata": {},
   "outputs": [],
   "source": [
    "# 추가적인 파싱 작업: 문자열을 딕셔너리로 변환\n",
    "import json\n",
    "\n",
    "def parse_response(response_str):\n",
    "    try:\n",
    "        response_dict = json.loads(response_str)\n",
    "    except json.JSONDecodeError:\n",
    "        response_dict = {\"error\": \"파싱 오류\", \"원본\": response_str}\n",
    "    return response_dict"
   ]
  },
  {
   "cell_type": "markdown",
   "metadata": {},
   "source": [
    "의도한게 '주문'"
   ]
  },
  {
   "cell_type": "code",
   "execution_count": 128,
   "metadata": {},
   "outputs": [
    {
     "data": {
      "text/plain": [
       "'{\"분류\": \"주문\", \"키워드\": \"크리스탈 버거\"}'"
      ]
     },
     "execution_count": 128,
     "metadata": {},
     "output_type": "execute_result"
    }
   ],
   "source": [
    "intent_chain.invoke(\"크리스탈 버거 하나\")\n",
    "# 주문"
   ]
  },
  {
   "cell_type": "code",
   "execution_count": 129,
   "metadata": {},
   "outputs": [
    {
     "data": {
      "text/plain": [
       "'{\"분류\": \"주문\", \"키워드\": \"불고기 버거\"}'"
      ]
     },
     "execution_count": 129,
     "metadata": {},
     "output_type": "execute_result"
    }
   ],
   "source": [
    "intent_chain.invoke(\"불고기 버거 하나만 줘\")\n",
    "# 주문"
   ]
  },
  {
   "cell_type": "code",
   "execution_count": 165,
   "metadata": {},
   "outputs": [
    {
     "data": {
      "text/plain": [
       "'{\\n  \"분류\": \"주문\",\\n  \"키워드\": [\"불고기 버거세트\"]\\n}'"
      ]
     },
     "execution_count": 165,
     "metadata": {},
     "output_type": "execute_result"
    }
   ],
   "source": [
    "intent_chain.invoke(\"불고기 버거세트 하나만 줘\")\n",
    "# 주문"
   ]
  },
  {
   "cell_type": "code",
   "execution_count": 166,
   "metadata": {},
   "outputs": [
    {
     "data": {
      "text/plain": [
       "'{\\n  \"분류\": \"주문\",\\n  \"키워드\": [\"불고기 버거\", \"세트\"]\\n}'"
      ]
     },
     "execution_count": 166,
     "metadata": {},
     "output_type": "execute_result"
    }
   ],
   "source": [
    "intent_chain.invoke(\"불고기 버거 세트로 하나만 줘\")\n",
    "# 주문"
   ]
  },
  {
   "cell_type": "markdown",
   "metadata": {},
   "source": [
    "의도한게 '추천'"
   ]
  },
  {
   "cell_type": "code",
   "execution_count": 130,
   "metadata": {},
   "outputs": [
    {
     "data": {
      "text/plain": [
       "'{\"분류\": \"주문\"}'"
      ]
     },
     "execution_count": 130,
     "metadata": {},
     "output_type": "execute_result"
    }
   ],
   "source": [
    "intent_chain.invoke(\"주문할게\")\n",
    "# 추천, 주문??"
   ]
  },
  {
   "cell_type": "code",
   "execution_count": 131,
   "metadata": {},
   "outputs": [
    {
     "data": {
      "text/plain": [
       "'{\"분류\": \"주문\", \"키워드\": \"치킨버거\"}'"
      ]
     },
     "execution_count": 131,
     "metadata": {},
     "output_type": "execute_result"
    }
   ],
   "source": [
    "intent_chain.invoke(\"치킨버거 하나만 줘\")\n",
    "# 추천"
   ]
  },
  {
   "cell_type": "code",
   "execution_count": 132,
   "metadata": {},
   "outputs": [
    {
     "data": {
      "text/plain": [
       "'{\"분류\": \"주문\", \"키워드\": [\"치킨버거\"]}'"
      ]
     },
     "execution_count": 132,
     "metadata": {},
     "output_type": "execute_result"
    }
   ],
   "source": [
    "intent_chain.invoke(\"치킨버거 아닌것도 있나?\")\n",
    "# 추천 , 키워드가 아닌것....이 포함되어야 할듯한데..? 아니면 question이 다시 RAG로 넘어가도록"
   ]
  },
  {
   "cell_type": "code",
   "execution_count": 133,
   "metadata": {},
   "outputs": [
    {
     "data": {
      "text/plain": [
       "'{\"분류\": \"추천\"}'"
      ]
     },
     "execution_count": 133,
     "metadata": {},
     "output_type": "execute_result"
    }
   ],
   "source": [
    "intent_chain.invoke(\"뭐 먹을지 잘 모르겠어\")\n",
    "# 추천"
   ]
  },
  {
   "cell_type": "code",
   "execution_count": 134,
   "metadata": {},
   "outputs": [
    {
     "data": {
      "text/plain": [
       "'{\"분류\": \"추천\"}'"
      ]
     },
     "execution_count": 134,
     "metadata": {},
     "output_type": "execute_result"
    }
   ],
   "source": [
    "intent_chain.invoke(\"매콤한거 먹을래\")\n",
    "# 추천"
   ]
  },
  {
   "cell_type": "markdown",
   "metadata": {},
   "source": [
    "의도한게 '취소'"
   ]
  },
  {
   "cell_type": "code",
   "execution_count": 135,
   "metadata": {},
   "outputs": [
    {
     "data": {
      "text/plain": [
       "'{\"분류\": \"취소\"}'"
      ]
     },
     "execution_count": 135,
     "metadata": {},
     "output_type": "execute_result"
    }
   ],
   "source": [
    "intent_chain.invoke(\"방금 얘기한거 주문 안할게\")\n",
    "# 취소"
   ]
  },
  {
   "cell_type": "code",
   "execution_count": 216,
   "metadata": {},
   "outputs": [
    {
     "data": {
      "text/plain": [
       "'{\"분류\": \"주문\", \"키워드\": \"\"}'"
      ]
     },
     "execution_count": 216,
     "metadata": {},
     "output_type": "execute_result"
    }
   ],
   "source": [
    "intent_chain.invoke(\"처음부터 주문 다시할게\")\n",
    "# 취소"
   ]
  },
  {
   "cell_type": "markdown",
   "metadata": {},
   "source": [
    "의도한게 '결제'"
   ]
  },
  {
   "cell_type": "code",
   "execution_count": 137,
   "metadata": {},
   "outputs": [
    {
     "data": {
      "text/plain": [
       "'{\"분류\": \"결제\"}'"
      ]
     },
     "execution_count": 137,
     "metadata": {},
     "output_type": "execute_result"
    }
   ],
   "source": [
    "intent_chain.invoke(\"주문 끝났어\")\n",
    "# 결제"
   ]
  },
  {
   "cell_type": "code",
   "execution_count": 138,
   "metadata": {},
   "outputs": [
    {
     "data": {
      "text/plain": [
       "'{\"분류\": \"결제\", \"키워드\": \"\"}'"
      ]
     },
     "execution_count": 138,
     "metadata": {},
     "output_type": "execute_result"
    }
   ],
   "source": [
    "intent_chain.invoke(\"주문완료\")\n",
    "# 결제"
   ]
  },
  {
   "cell_type": "code",
   "execution_count": 139,
   "metadata": {},
   "outputs": [
    {
     "data": {
      "text/plain": [
       "'{\"분류\": \"결제\"}'"
      ]
     },
     "execution_count": 139,
     "metadata": {},
     "output_type": "execute_result"
    }
   ],
   "source": [
    "intent_chain.invoke(\"계산해줘\")\n",
    "# 결제"
   ]
  },
  {
   "cell_type": "code",
   "execution_count": 140,
   "metadata": {},
   "outputs": [
    {
     "data": {
      "text/plain": [
       "'{\"분류\": \"기타\"}'"
      ]
     },
     "execution_count": 140,
     "metadata": {},
     "output_type": "execute_result"
    }
   ],
   "source": [
    "intent_chain.invoke(\"이거 어떻게 하는거야?\")\n",
    "# 기타"
   ]
  },
  {
   "cell_type": "markdown",
   "metadata": {},
   "source": [
    "## 2. task별 구분"
   ]
  },
  {
   "cell_type": "markdown",
   "metadata": {},
   "source": [
    "주문(빠른주문) : 세트, 단품 분리하고 시작. 명확한 이름을 아는 경우 JSON 형식으로 출력. 명확한 이름을 모르는 경우 LLM으로 한번 걸러서 주문 진행.  \n",
    "결제, 취소는 코딩으로 해결  \n",
    "기타 : LLM 무한가동시켜서 의도분류 task중 하나 선택하도록 유도  "
   ]
  },
  {
   "cell_type": "markdown",
   "metadata": {},
   "source": [
    "### 빠른주문"
   ]
  },
  {
   "cell_type": "code",
   "execution_count": 162,
   "metadata": {},
   "outputs": [
    {
     "name": "stdout",
     "output_type": "stream",
     "text": [
      "['맥크리스피 스리라차 마요', '베토디 스리라차 마요', '맥스파이시 상하이 버거', '토마토 치즈 비프 버거', '더블 쿼터파운더 치즈', '쿼터파운더 치즈', '빅맥', '맥크리스피 디럭스 버거', '맥크리스피 클래식 버거', '1955 버거', '맥치킨 모짜렐라', '맥치킨', '더블 불고기 버거', '불고기 버거', '슈슈 버거', '슈비 버거', '베이컨 토마토 디럭스', '치즈버거', '더블 치즈버거', '트리플 치즈버거', '햄버거', '소시지 스낵랩', '맥윙', '맥윙콤보', '코울슬로', '상하이 치킨 스낵랩', '골든 모짜렐라 치즈스틱', '후렌치 후라이', '맥너겟', '맥스파이시치킨 텐더', '해쉬 브라운', '애플 파이', '베리 스트로베리 맥플러리', '오레오 맥플러리', '딸기 오레오 맥플러리', '초코 오레오 맥플러리', '스트로베리콘', '아이스크림콘', '바닐라 선데이 아이스크림', '초코 선데이 아이스크림', '딸기 선데이 아이스크림', '오레오 아포가토', '바닐라 라떼', '아이스 바닐라 라떼', '카페라떼', '디카페인 카페라떼', '아이스 카페라떼', '디카페인 아이스 카페라떼', '아메리카노', '디카페인 아메리카노', '아이스 아메리카노', '디카페인 아이스 아메리카노', '카푸치노', '디카페인 카푸치노', '드립 커피', '아이스 드립 커피', '코카-콜라', '코카-콜라 제로', '스프라이트', '환타', '바닐라 쉐이크 Medium', '딸기 쉐이크 Medium', '초코 쉐이크 Medium', '오렌지 주스', '생수']\n"
     ]
    }
   ],
   "source": [
    "import json\n",
    "\n",
    "# 파일 경로 설정\n",
    "file_path = '/home/yoojin/ML/aiffel/HackaThon/modu_hackaton/LLM/files/menu_1014.json'\n",
    "\n",
    "# 파일 열기 및 메뉴 리스트 생성\n",
    "with open(file_path, 'r', encoding='utf-8') as file:\n",
    "    data = json.load(file)\n",
    "\n",
    "# 메뉴명을 저장할 리스트\n",
    "menu_list = []\n",
    "\n",
    "# 메뉴명 추출 및 리스트에 저장\n",
    "for item in data:\n",
    "    menu_name = item['page_content']['name']\n",
    "    menu_list.append(menu_name)\n",
    "\n",
    "# 결과 출력 (리스트 확인)\n",
    "print(menu_list)\n"
   ]
  },
  {
   "attachments": {
    "image-2.png": {
     "image/png": "[encoded data removed]"
    }
   },
   "cell_type": "markdown",
   "metadata": {},
   "source": [
    "![image-2.png](attachment:image-2.png)"
   ]
  },
  {
   "cell_type": "code",
   "execution_count": 261,
   "metadata": {},
   "outputs": [],
   "source": [
    "def process_keyword(word):\n",
    "    word = ''.join(word)\n",
    "    word = word.replace(\"세트\", \"\").strip()\n",
    "    word = word.replace(\"버거\", \"\").strip()\n",
    "    return word"
   ]
  },
  {
   "cell_type": "code",
   "execution_count": 268,
   "metadata": {},
   "outputs": [],
   "source": [
    "def save_menu(keyword):\n",
    "    menu_data = None\n",
    "\n",
    "    # 데이터를 순회하면서 키워드와 일치하는 아이템을 찾음\n",
    "    for item in data:\n",
    "        if item['page_content']['name'] == keyword:\n",
    "            menu_data = {\n",
    "                \"name\": item['page_content']['name'],\n",
    "                \"category\": item['page_content']['category'],\n",
    "                \"description\": item['page_content']['description'],\n",
    "                \"price\": item['page_content']['price'],\n",
    "                \"nutrition\": item['page_content']['nutrition'],\n",
    "                \"origin\": item['page_content']['origin']\n",
    "            }\n",
    "            break\n",
    "\n",
    "    # JSON 형식으로 출력 (또는 이후에 사용)\n",
    "    if menu_data:\n",
    "        menu_data_json = json.dumps(menu_data, ensure_ascii=False, indent=4)\n",
    "        print(menu_data_json)\n",
    "        return menu_data_json\n",
    "    else:\n",
    "        print(\"해당 키워드와 일치하는 메뉴를 찾을 수 없습니다.\")"
   ]
  },
  {
   "cell_type": "code",
   "execution_count": null,
   "metadata": {},
   "outputs": [],
   "source": [
    "question = \"빅맥 주문할게\" \n",
    "intent = intent_chain.invoke(question)\n",
    "parsed_intent = parse_response(intent)\n",
    "\n",
    "category = parsed_intent.get('분류')\n",
    "keyword = parsed_intent.get('키워드')  # 키워드가 없으면 None"
   ]
  },
  {
   "cell_type": "code",
   "execution_count": 242,
   "metadata": {},
   "outputs": [
    {
     "name": "stdout",
     "output_type": "stream",
     "text": [
      "주문\n",
      "['빅맥']\n"
     ]
    }
   ],
   "source": [
    "print(category)\n",
    "print(keyword)"
   ]
  },
  {
   "cell_type": "markdown",
   "metadata": {},
   "source": [
    "keyword가 없거나, menu list에 없으면 추천시스템으로 넘어가기"
   ]
  },
  {
   "cell_type": "code",
   "execution_count": 406,
   "metadata": {},
   "outputs": [
    {
     "name": "stdout",
     "output_type": "stream",
     "text": [
      "베토디\n",
      "베토디\n",
      "베토디 스리라차 마요\n",
      "메뉴 없음\n"
     ]
    }
   ],
   "source": [
    "recommend = False\n",
    "\n",
    "if category == '주문':\n",
    "    print(keyword)\n",
    "    n_keyword = process_keyword(keyword)\n",
    "    print(n_keyword)\n",
    "    llm_keyword = name_chain.run(keyword)\n",
    "    llm_keyword = process_keyword(llm_keyword)\n",
    "    print(llm_keyword)\n",
    "    if keyword is None:  # 키워드가 None일 경우 예외 처리\n",
    "        recommend = True\n",
    "        print(\"키워드 없음\")\n",
    "    elif llm_keywordi== \"없음\":\n",
    "    else:\n",
    "        try:\n",
    "            if \"세트\" in keyword:  # 세트메뉴인 경우\n",
    "                if n_keyword in menu_list:\n",
    "                    save_menu(n_keyword)\n",
    "                elif llm_keyword in menu_list:\n",
    "                    save_menu(llm_keyword)\n",
    "                else:  # 메뉴 리스트에 없는 항목\n",
    "                    recommend = True\n",
    "                    print(\"세트 없음\")\n",
    "            elif n_keyword in menu_list: # 단품메뉴인 경우\n",
    "                save_menu(n_keyword)\n",
    "            elif llm_keyword in menu_list:\n",
    "                save_menu(llm_keyword)\n",
    "            else:    # 단품 : 메뉴 리스트에 없는 항목\n",
    "                recommend = True\n",
    "                print(\"메뉴 없음\")\n",
    "        except Exception as e:  # 에러 발생 시 구체적인 에러 메시지를 출력\n",
    "            print(f\"에러 발생: {e}\")\n",
    "            recommend = True"
   ]
  },
  {
   "cell_type": "code",
   "execution_count": 259,
   "metadata": {},
   "outputs": [
    {
     "name": "stdout",
     "output_type": "stream",
     "text": [
      "False\n"
     ]
    }
   ],
   "source": [
    "print(find_name)"
   ]
  },
  {
   "cell_type": "code",
   "execution_count": 260,
   "metadata": {},
   "outputs": [
    {
     "name": "stdout",
     "output_type": "stream",
     "text": [
      "{\n",
      "    \"page_content\": {\n",
      "        \"name\": \"빅맥\",\n",
      "        \"category\": \"버거\",\n",
      "        \"description\": \"100% 순 쇠고기 패티 두 장에 빅맥만의  특별한 소스.입안에서 살살 녹는 치즈와 신선한 양상추, 양파, 그리고 피클까지.50년 넘게 전 세계인의 입맛을 사로 잡은 버거의 대명사.\",\n",
      "        \"price\": \"6300\",\n",
      "        \"nutrition\": {\n",
      "            \"중량(g)\": \"223g\",\n",
      "            \"중량(ml)\": \"-\",\n",
      "            \"열량\": \"582kcal\",\n",
      "            \"당\": \"8g\",\n",
      "            \"단백질\": \"27g\",\n",
      "            \"포화지방\": \"11g\",\n",
      "            \"나트륨\": \"902mg\",\n",
      "            \"카페인\": \"-\"\n",
      "        },\n",
      "        \"origin\": \"쇠고기:호주산\"\n",
      "    }\n",
      "}\n"
     ]
    }
   ],
   "source": [
    "if find_name == False :\n",
    "    print(menu_data)   "
   ]
  },
  {
   "cell_type": "markdown",
   "metadata": {},
   "source": [
    "### 주문내역 출력 -> 장바구니 넣기"
   ]
  },
  {
   "cell_type": "code",
   "execution_count": 351,
   "metadata": {},
   "outputs": [],
   "source": [
    "# 주문데이터 장바구니에 넘겨주기\n",
    "shopping_cart = []\n",
    "\n",
    "def add_to_cart(order_data,num):\n",
    "    cart[\"name\"] = order_data[\"page_content\"][\"name\"]\n",
    "    cart[\"num\"] = num\n",
    "    cart[\"price\"] = order_data[\"page_content\"][\"price\"]\n",
    "    shopping_cart.append(cart)"
   ]
  },
  {
   "cell_type": "code",
   "execution_count": 350,
   "metadata": {},
   "outputs": [
    {
     "name": "stdout",
     "output_type": "stream",
     "text": [
      "[{'name': '맥치킨', 'num': 2, 'price': '4300'}]\n"
     ]
    }
   ],
   "source": [
    "# # 예시로 주문 데이터를 사용하여 실행해봄\n",
    "# order_data = {\n",
    "#     \"page_content\": {\n",
    "#         \"name\": \"맥치킨\",\n",
    "#         \"category\": \"버거\",\n",
    "#         \"description\": \"바삭한 치킨 패티, 고소한 화이트 마요 소스와 아삭한 양상추가 함께!\",\n",
    "#         \"price\": \"4300\"\n",
    "#     }\n",
    "# }\n",
    "\n",
    "# # 장바구니에 추가\n",
    "# add_to_cart(order_data, 2)\n",
    "\n",
    "# # 결과 출력\n",
    "# print(shopping_cart)\n"
   ]
  },
  {
   "cell_type": "markdown",
   "metadata": {},
   "source": [
    "### 비슷한 이름 LLM으로 추측"
   ]
  },
  {
   "cell_type": "code",
   "execution_count": 399,
   "metadata": {},
   "outputs": [],
   "source": [
    "from langchain.prompts import PromptTemplate\n",
    "from langchain.chains import LLMChain\n",
    "from langchain_openai import ChatOpenAI\n",
    "\n",
    "llm = ChatOpenAI(model_name=\"gpt-4o-mini-2024-07-18\", temperature=0.3)\n",
    "\n",
    "# 프롬프트 템플릿 정의\n",
    "prompt_template = PromptTemplate.from_template(\"\"\"\n",
    "사용자의 질문과 메뉴 리스트를 참고하여 사용자의 질문과 비슷한 메뉴가 있는지 확인하세요.\n",
    "메뉴 리스트\n",
    "비슷한 이름의 메뉴가 있다면 가장 비슷한 메뉴 이름 한개만 출력하세요.\n",
    "비슷한 메뉴가 없다면 \"없음\"이라고 출력하세요.\n",
    "\n",
    "<메뉴 리스트>\n",
    "['맥크리스피 스리라차 마요', '베토디 스리라차 마요', '맥스파이시 상하이 버거', '토마토 치즈 비프 버거', '더블 쿼터파운더 치즈', '쿼터파운더 치즈', '빅맥', '맥크리스피 디럭스 버거', '맥크리스피 클래식 버거', '1955 버거', '맥치킨 모짜렐라', '맥치킨', '더블 불고기 버거', '불고기 버거', '슈슈 버거', '슈비 버거', '베이컨 토마토 디럭스', '치즈버거', '더블 치즈버거', '트리플 치즈버거', '햄버거', '소시지 스낵랩', '맥윙', '맥윙콤보', '코울슬로', '상하이 치킨 스낵랩', '골든 모짜렐라 치즈스틱', '후렌치 후라이', '맥너겟', '맥스파이시치킨 텐더', '해쉬 브라운', '애플 파이', '베리 스트로베리 맥플러리', '오레오 맥플러리', '딸기 오레오 맥플러리', '초코 오레오 맥플러리', '스트로베리콘', '아이스크림콘', '바닐라 선데이 아이스크림', '초코 선데이 아이스크림', '딸기 선데이 아이스크림', '오레오 아포가토', '바닐라 라떼', '아이스 바닐라 라떼', '카페라떼', '디카페인 카페라떼', '아이스 카페라떼', '디카페인 아이스 카페라떼', '아메리카노', '디카페인 아메리카노', '아이스 아메리카노', '디카페인 아이스 아메리카노', '카푸치노', '디카페인 카푸치노', '드립 커피', '아이스 드립 커피', '코카-콜라', '코카-콜라 제로', '스프라이트', '환타', '바닐라 쉐이크 Medium', '딸기 쉐이크 Medium', '초코 쉐이크 Medium', '오렌지 주스', '생수']\n",
    "</메뉴 리스트>\n",
    "\n",
    "<질문>\n",
    "{question}\n",
    "</질문>\n",
    "\n",
    "\"\"\")\n",
    "\n",
    "# LLMChain을 사용하여 프롬프트와 LLM을 연결\n",
    "name_chain = LLMChain(llm=llm, prompt=prompt_template, output_parser=StrOutputParser())"
   ]
  },
  {
   "cell_type": "code",
   "execution_count": null,
   "metadata": {},
   "outputs": [],
   "source": [
    "from langchain.prompts import PromptTemplate\n",
    "from langchain.chains import LLMChain\n",
    "from langchain_openai import ChatOpenAI\n",
    "from langchain.schema import BaseOutputParser\n",
    "import json\n",
    "\n",
    "# 커스텀 출력 파서 정의\n",
    "class CustomOutputParser(BaseOutputParser):\n",
    "    def parse(self, text: str) -> dict:\n",
    "        # 항상 'answer' 키로 '정답'을 반환\n",
    "        return {\"answer\": text.strip()}\n",
    "\n",
    "llm = ChatOpenAI(model_name=\"gpt-4o-mini-2024-07-18\", temperature=0.3)\n",
    "\n",
    "# 프롬프트 템플릿 정의\n",
    "prompt_template = PromptTemplate.from_template(\"\"\"\n",
    "사용자의 질문과 메뉴 리스트를 참고하여 사용자의 질문과 비슷한 메뉴가 있는지 확인하세요.\n",
    "메뉴 리스트\n",
    "비슷한 이름의 메뉴가 있다면 가장 비슷한 메뉴 이름 한개만 출력하세요.\n",
    "비슷한 메뉴가 없다면 \"없음\"이라고 출력하세요.\n",
    "\n",
    "<메뉴 리스트>\n",
    "['맥크리스피 스리라차 마요', '베토디 스리라차 마요', '맥스파이시 상하이 버거', '토마토 치즈 비프 버거', '더블 쿼터파운더 치즈', '쿼터파운더 치즈', '빅맥', '맥크리스피 디럭스 버거', '맥크리스피 클래식 버거', '1955 버거', '맥치킨 모짜렐라', '맥치킨', '더블 불고기 버거', '불고기 버거', '슈슈 버거', '슈비 버거', '베이컨 토마토 디럭스', '치즈버거', '더블 치즈버거', '트리플 치즈버거', '햄버거', '소시지 스낵랩', '맥윙', '맥윙콤보', '코울슬로', '상하이 치킨 스낵랩', '골든 모짜렐라 치즈스틱', '후렌치 후라이', '맥너겟', '맥스파이시치킨 텐더', '해쉬 브라운', '애플 파이', '베리 스트로베리 맥플러리', '오레오 맥플러리', '딸기 오레오 맥플러리', '초코 오레오 맥플러리', '스트로베리콘', '아이스크림콘', '바닐라 선데이 아이스크림', '초코 선데이 아이스크림', '딸기 선데이 아이스크림', '오레오 아포가토', '바닐라 라떼', '아이스 바닐라 라떼', '카페라떼', '디카페인 카페라떼', '아이스 카페라떼', '디카페인 아이스 카페라떼', '아메리카노', '디카페인 아메리카노', '아이스 아메리카노', '디카페인 아이스 아메리카노', '카푸치노', '디카페인 카푸치노', '드립 커피', '아이스 드립 커피', '코카-콜라', '코카-콜라 제로', '스프라이트', '환타', '바닐라 쉐이크 Medium', '딸기 쉐이크 Medium', '초코 쉐이크 Medium', '오렌지 주스', '생수']\n",
    "</메뉴 리스트>\n",
    "\n",
    "<질문>\n",
    "{question}\n",
    "</질문>\n",
    "\n",
    "\"\"\")\n",
    "# 커스텀 출력 파서를 적용\n",
    "output_parser = CustomOutputParser()\n",
    "\n",
    "# LLMChain을 사용하여 프롬프트와 LLM을 연결\n",
    "name_chain = LLMChain(llm=llm, prompt=prompt_template, output_parser=output_parser)"
   ]
  },
  {
   "cell_type": "code",
   "execution_count": 400,
   "metadata": {},
   "outputs": [
    {
     "data": {
      "text/plain": [
       "'맥크리스피 스리라차 마요'"
      ]
     },
     "execution_count": 400,
     "metadata": {},
     "output_type": "execute_result"
    }
   ],
   "source": [
    "keyword = \"맥크리스탈 마요\"\n",
    "name_chain.run(keyword)"
   ]
  },
  {
   "cell_type": "code",
   "execution_count": 402,
   "metadata": {},
   "outputs": [
    {
     "data": {
      "text/plain": [
       "'없음'"
      ]
     },
     "execution_count": 402,
     "metadata": {},
     "output_type": "execute_result"
    }
   ],
   "source": [
    "keyword = \"맥크리스탈\"\n",
    "name_chain.run(keyword)"
   ]
  },
  {
   "cell_type": "code",
   "execution_count": 403,
   "metadata": {},
   "outputs": [
    {
     "data": {
      "text/plain": [
       "'맥스파이시 상하이 버거'"
      ]
     },
     "execution_count": 403,
     "metadata": {},
     "output_type": "execute_result"
    }
   ],
   "source": [
    "keyword = \"스파이시\"\n",
    "name_chain.run(keyword)"
   ]
  },
  {
   "cell_type": "code",
   "execution_count": 404,
   "metadata": {},
   "outputs": [
    {
     "data": {
      "text/plain": [
       "'베토디 스리라차 마요'"
      ]
     },
     "execution_count": 404,
     "metadata": {},
     "output_type": "execute_result"
    }
   ],
   "source": [
    "keyword = \"베토디\"\n",
    "name_chain.run(keyword)\n",
    "# 베이컨 토마토 디럭스도 있음.. ㅜㅜ "
   ]
  },
  {
   "cell_type": "code",
   "execution_count": null,
   "metadata": {},
   "outputs": [],
   "source": [
    "from langchain.prompts import ChatPromptTemplate\n",
    "\n",
    "order_single_template = ChatPromptTemplate.from_messages([\n",
    "    (\"system\",\n",
    "    \"\"\"\n",
    "    당신은 맥도날드 가게의 점원입니다. \n",
    "    나이가 많은 노인 고객의 주문을 도와주세요.\n",
    "    나이와 관련된 어떤한 호칭도 하지 말고 '고객님'으로 부르세요.\n",
    "    어린아이도 이해하기 쉬운 단어로 설명해주세요.\n",
    "    상냥하고, 친절하고, 존댓말로 사용자의 질문에 답변을 해주세요. \n",
    "    간결하게 답변하며, 가능한 한문장 이내로 대답해주세요.\n",
    "    \n",
    "    반드시 제공된 정보만을 사용하여 질문에 대답하세요.\n",
    "    질문과 가장 관련성이 높은 메뉴를 찾아서 답변하세요.\n",
    "    충분한 정보를 바탕으로 정확히 답변할 수 있는 경우에만 답변하세요.\n",
    "    한가지 메뉴로 특정할 수 없는 경우, 추가질문을 통해 메뉴를 특정하세요.\n",
    "\n",
    "    답변이 확실하지 않을 경우, \"죄송합니다. 해당 질문에 대한 답을 찾을 수 없습니다.\"라고 답하세요.\n",
    "    \n",
    "    주문 결과를 json 형식으로 출력합니다.\n",
    "\n",
    "    주문 결과 예시: \n",
    "    {{\n",
    "        \"주문 메뉴\" : [\n",
    "            {{\n",
    "                \"메뉴 이름\" : \"베이컨 토마토 디럭스\"\n",
    "                \n",
    "            }}\n",
    "        ]\n",
    "    }}\n",
    "    Context: {context}\n",
    "    \"\"\"),\n",
    "    (\"human\", \"{question}\"),\n",
    "])"
   ]
  },
  {
   "cell_type": "code",
   "execution_count": null,
   "metadata": {},
   "outputs": [],
   "source": [
    "from langchain.prompts import ChatPromptTemplate\n",
    "\n",
    "order_set_template = ChatPromptTemplate.from_messages([\n",
    "    (\"system\",\n",
    "    \"\"\"\n",
    "    당신은 맥도날드 가게의 점원입니다. \n",
    "    나이가 많은 노인 고객의 주문을 도와주세요.\n",
    "    나이와 관련된 어떤한 호칭도 하지 말고 '고객님'으로 부르세요.\n",
    "    어린아이도 이해하기 쉬운 단어로 설명해주세요.\n",
    "    상냥하고, 친절하고, 존댓말로 사용자의 질문에 답변을 해주세요. \n",
    "    간결하게 답변하며, 가능한 한문장 이내로 대답해주세요.\n",
    "    \n",
    "    반드시 제공된 정보만을 사용하여 질문에 대답하세요.\n",
    "    질문과 가장 관련성이 높은 메뉴를 찾아서 답변하세요.\n",
    "    충분한 정보를 바탕으로 정확히 답변할 수 있는 경우에만 답변하세요.\n",
    "    한가지 메뉴로 특정할 수 없는 경우, 추가질문을 통해 메뉴를 특정하세요.\n",
    "\n",
    "    답변이 확실하지 않을 경우, \"죄송합니다. 해당 질문에 대한 답을 찾을 수 없습니다.\"라고 답하세요.\n",
    "    \n",
    "    주문 결과를 json 형식으로 출력합니다.\n",
    "\n",
    "    주문 결과 예시: \n",
    "    {{\n",
    "        \"주문 메뉴\" : [\n",
    "            {{\n",
    "                \"메뉴 이름\" : \"베이컨 토마토 디럭스\",\n",
    "                \"추가 옵션\" : \"후렌치 후라이 1개, 코카콜라 1개\",\n",
    "                \"단품 금액\" : 6600,\n",
    "                \"추가 금액\" : 5600,\n",
    "                \"주문 금액\" : 12200\n",
    "            }}\n",
    "        ]\n",
    "    }}\n",
    "    Context: {context}\n",
    "    \"\"\"),\n",
    "    (\"human\", \"{question}\"),\n",
    "])"
   ]
  },
  {
   "cell_type": "code",
   "execution_count": 7,
   "metadata": {},
   "outputs": [],
   "source": [
    "from langchain.prompts import ChatPromptTemplate\n",
    "\n",
    "rec_template = ChatPromptTemplate.from_messages([\n",
    "    (\"system\",\n",
    "    \"\"\"\n",
    "    당신은 맥도날드 가게의 점원입니다. \n",
    "    나이가 많은 노인 고객의 주문을 도와주세요.\n",
    "    나이와 관련된 어떤한 호칭도 하지 말고 '고객님'으로 부르세요.\n",
    "    어린아이도 이해하기 쉬운 단어로 설명해주세요.\n",
    "    상냥하고, 친절하고, 존댓말로 사용자의 질문에 답변을 해주세요. \n",
    "    간결하게 답변하며, 가능한 한문장 이내로 대답해주세요.\n",
    "    \n",
    "    반드시 제공된 정보만을 사용하여 질문에 대답하세요.\n",
    "    질문과 가장 관련성이 높은 메뉴를 찾아서 답변하세요.\n",
    "    충분한 정보를 바탕으로 정확히 답변할 수 있는 경우에만 답변하세요.\n",
    "    한가지 메뉴로 특정할 수 없는 경우, 추가질문을 통해 메뉴를 특정하세요.\n",
    "\n",
    "    답변이 확실하지 않을 경우, \"죄송합니다. 해당 질문에 대한 답을 찾을 수 없습니다.\"라고 답하세요.\n",
    "    \n",
    "    주문의 절차는 다음과 같습니다 : \n",
    "    1. 고객의 주문을 받습니다.\n",
    "    2. 버거 메뉴를 선택할 때 항상 세트 메뉴를 원하는지 확인합니다. \n",
    "       세트 메뉴는 버거, 사이드, 음료가 포함됩니다. \n",
    "       기본 사이드는 후렌치 후라이 1개, 음료는 콜라 1개입니다. 사이드와 음료는 변경 가능합니다.\n",
    "       다른 메뉴로 변경 시 추가 금액을 안내해 드립니다.\n",
    "    4. 주문 완료 시 주문을 검토합니다.\n",
    "    5. 주문 결과를 json 형식으로 출력합니다.\n",
    "\n",
    "    주문 결과 예시: \n",
    "    {{\n",
    "        \"주문 메뉴\" : [\n",
    "            {{\n",
    "                \"메뉴 이름\" : \"베이컨 토마토 디럭스\",\n",
    "                \"추가 옵션\" : \"후렌치 후라이 1개, 코카콜라 1개\",\n",
    "                \"단품 금액\" : 6600,\n",
    "                \"추가 금액\" : 5600,\n",
    "                \"주문 금액\" : 12200\n",
    "            }}\n",
    "        ]\n",
    "    }}\n",
    "    Context: {context}\n",
    "    \"\"\"),\n",
    "    (\"human\", \"{question}\"),\n",
    "])"
   ]
  },
  {
   "cell_type": "code",
   "execution_count": null,
   "metadata": {},
   "outputs": [],
   "source": [
    "file_dir = \"/home/yoojin/ML/aiffel/HackaThon/modu_hackaton/LLM/files/menu_1014.json\"\n",
    "\n",
    "with open(file_dir, 'r', encoding='utf-8') as file:\n",
    "    content = file.read()\n",
    "    # JSON 객체들을 리스트로 변환\n",
    "    json_objects = json.loads(content)\n",
    "\n",
    "# 파싱된 JSON 객체들을 문서로 변환\n",
    "docs = [\n",
    "    Document(\n",
    "        page_content=json.dumps(obj['page_content'], ensure_ascii=False),\n",
    "    )\n",
    "    for obj in json_objects\n",
    "]\n",
    "\n",
    "\n",
    "file_name = file_dir.split(\"/\")[-1]\n",
    "cache_dir = LocalFileStore(f\"./.cache/embeddings/{file_name}\")\n",
    "\n",
    "# CharacterTextSplitter를 사용하여 문서 분할\n",
    "text_splitter = CharacterTextSplitter(separator=\"\\n\\n\", chunk_size=100, chunk_overlap=0)\n",
    "split_docs = text_splitter.split_documents(docs)\n",
    "\n",
    "embeddings = UpstageEmbeddings(\n",
    "    model=\"solar-embedding-1-large\"\n",
    ")\n",
    "\n",
    "cached_embedder = CacheBackedEmbeddings.from_bytes_store(\n",
    "    underlying_embeddings=embeddings,\n",
    "    document_embedding_cache=cache_dir,\n",
    "    namespace=\"solar-embedding-1-large\",\n",
    ")\n",
    "vectorstore = FAISS.from_documents(\n",
    "    split_docs,\n",
    "    cached_embedder,\n",
    ")\n",
    "\n",
    "faiss = vectorstore.as_retriever(search_kwargs={\"k\": 4})\n",
    "\n",
    "bm25 = BM25Retriever.from_documents(split_docs)\n",
    "bm25.k = 4\n",
    "\n",
    "ensemble_retriever = EnsembleRetriever(\n",
    "    retrievers=[bm25, faiss],\n",
    "    weights=[0.3, 0.7],\n",
    "    search_type=\"mmr\",\n",
    ")"
   ]
  },
  {
   "cell_type": "code",
   "execution_count": 10,
   "metadata": {},
   "outputs": [],
   "source": [
    "llm = ChatAnthropic(model_name=\"claude-3-5-sonnet-20240620\")\n",
    "\n",
    "order_chain = {\n",
    "    \"context\": ensemble_retriever,\n",
    "    \"question\": RunnablePassthrough()\n",
    "} | order_template | llm"
   ]
  },
  {
   "cell_type": "code",
   "execution_count": 11,
   "metadata": {},
   "outputs": [
    {
     "data": {
      "text/plain": [
       "AIMessage(content='네, 고객님. 치킨버거 주문 감사합니다. 저희 매장에는 맥치킨과 맥크리스피 클래식 버거, 두 가지 치킨버거가 있습니다. 어떤 버거를 원하시나요?', additional_kwargs={}, response_metadata={'id': 'msg_01CtbVTDr7gm3ZEcV6Lf5LrZ', 'model': 'claude-3-5-sonnet-20240620', 'stop_reason': 'end_turn', 'stop_sequence': None, 'usage': {'input_tokens': 2278, 'output_tokens': 90}}, id='run-7279336d-7620-44df-8877-7e11bcc73c4b-0', usage_metadata={'input_tokens': 2278, 'output_tokens': 90, 'total_tokens': 2368})"
      ]
     },
     "execution_count": 11,
     "metadata": {},
     "output_type": "execute_result"
    }
   ],
   "source": [
    "order_chain.invoke(\"치킨버거 주문할게\")"
   ]
  },
  {
   "cell_type": "code",
   "execution_count": null,
   "metadata": {},
   "outputs": [],
   "source": []
  },
  {
   "cell_type": "code",
   "execution_count": null,
   "metadata": {},
   "outputs": [],
   "source": []
  },
  {
   "cell_type": "code",
   "execution_count": null,
   "metadata": {},
   "outputs": [],
   "source": []
  },
  {
   "cell_type": "code",
   "execution_count": null,
   "metadata": {},
   "outputs": [],
   "source": []
  },
  {
   "cell_type": "code",
   "execution_count": null,
   "metadata": {},
   "outputs": [],
   "source": []
  },
  {
   "cell_type": "code",
   "execution_count": null,
   "metadata": {},
   "outputs": [],
   "source": []
  },
  {
   "cell_type": "code",
   "execution_count": null,
   "metadata": {},
   "outputs": [],
   "source": []
  },
  {
   "cell_type": "code",
   "execution_count": null,
   "metadata": {},
   "outputs": [],
   "source": []
  },
  {
   "cell_type": "code",
   "execution_count": null,
   "metadata": {},
   "outputs": [],
   "source": []
  },
  {
   "cell_type": "code",
   "execution_count": null,
   "metadata": {},
   "outputs": [],
   "source": []
  },
  {
   "cell_type": "code",
   "execution_count": null,
   "metadata": {},
   "outputs": [],
   "source": []
  },
  {
   "cell_type": "code",
   "execution_count": null,
   "metadata": {},
   "outputs": [],
   "source": []
  }
 ],
 "metadata": {
  "kernelspec": {
   "display_name": "RAG",
   "language": "python",
   "name": "python3"
  },
  "language_info": {
   "codemirror_mode": {
    "name": "ipython",
    "version": 3
   },
   "file_extension": ".py",
   "mimetype": "text/x-python",
   "name": "python",
   "nbconvert_exporter": "python",
   "pygments_lexer": "ipython3",
   "version": "3.10.12"
  }
 },
 "nbformat": 4,
 "nbformat_minor": 2
}
